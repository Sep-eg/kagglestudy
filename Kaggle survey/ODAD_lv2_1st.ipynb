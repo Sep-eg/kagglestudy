{
  "nbformat": 4,
  "nbformat_minor": 0,
  "metadata": {
    "colab": {
      "name": "ODAD_lv2_1st.ipynb",
      "private_outputs": true,
      "provenance": [],
      "authorship_tag": "ABX9TyPCVSlhEjm1qLsNZjkG4yhZ",
      "include_colab_link": true
    },
    "kernelspec": {
      "name": "python3",
      "display_name": "Python 3"
    },
    "language_info": {
      "name": "python"
    }
  },
  "cells": [
    {
      "cell_type": "markdown",
      "metadata": {
        "id": "view-in-github",
        "colab_type": "text"
      },
      "source": [
        "<a href=\"https://colab.research.google.com/github/Sep-eg/kagglestudy/blob/main/Kaggle%20survey/ODAD_lv2_1st.ipynb\" target=\"_parent\"><img src=\"https://colab.research.google.com/assets/colab-badge.svg\" alt=\"Open In Colab\"/></a>"
      ]
    },
    {
      "cell_type": "markdown",
      "metadata": {
        "id": "USpAS7fgq4FR"
      },
      "source": [
        "## Novice to Grandmaster - What Data Scientists say?"
      ]
    },
    {
      "cell_type": "markdown",
      "metadata": {
        "id": "bwe2VwERrCZX"
      },
      "source": [
        "캐글은 이용자가 100만 명이 넘는 세계 최대 데이터 사이언스 플랫폼으로, 나 같은 학생들이 데이터 사이언스, 머신러닝 분야에서 배우고 성장하기 좋은 플랫폼이다. 통계학자, 데이터 과학자, 머신러닝 실무자 등 다양한 영역의 사용자가 있다.Kaggle이 출판한 이 데이터 세트는 데이터를 분석하고 조사하는 것을 좋아하는 저 같은 사람들에게 소중한 것입니다. 이 노트에서는 데이터 과학자가 가장 많이 사용하는 도구와 같이 데이터 과학을 배우기 위한 리소스 등을 알고 싶어 하는 몇 가지 동향 또는 일반적인 질문을 찾아볼 것입니다.\n",
        "\n",
        "우리가 직면할 수 있는 가장 큰 문제는 가짜와 가짜 대응이다. 설문 조사이기 때문에 모든 사람이 제대로 된 자격증으로 답하지는 않을 것이고, 따라서 특이점도 많을 것으로 짐작된다. 데이터 풀로 바로 이동하여 몇 가지 통찰력을 얻도록 하겠습니다"
      ]
    },
    {
      "cell_type": "markdown",
      "metadata": {
        "id": "aTE6Gm-qsC1M"
      },
      "source": [
        "## Introduction"
      ]
    },
    {
      "cell_type": "markdown",
      "metadata": {
        "id": "9UTMLvLasF3j"
      },
      "source": [
        "**Who are Data Scientists**\n",
        "\n",
        "데이터 사이언티스트(data scientist)는 데이터를 정리, 관리 및 정리하고, 기술 통계 및 분석을 수행하여 통찰력을 개발하고, 예측 모델을 구축하고, 비즈니스 관련 문제를 해결하는 통계학자 또는 프로그래머입니다. Kaggle에 대한 데이터 과학자의 의견을 들어보겠습니다."
      ]
    },
    {
      "cell_type": "code",
      "metadata": {
        "id": "l5CIA6FJqlZ-"
      },
      "source": [
        "import pandas as pd"
      ],
      "execution_count": null,
      "outputs": []
    }
  ]
}