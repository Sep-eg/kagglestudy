{
  "nbformat": 4,
  "nbformat_minor": 0,
  "metadata": {
    "kernelspec": {
      "display_name": "Python 3",
      "language": "python",
      "name": "python3"
    },
    "language_info": {
      "codemirror_mode": {
        "name": "ipython",
        "version": 3
      },
      "file_extension": ".py",
      "mimetype": "text/x-python",
      "name": "python",
      "nbconvert_exporter": "python",
      "pygments_lexer": "ipython3",
      "version": "3.6.3"
    },
    "colab": {
      "name": "BCT_2lv_1st.ipynb",
      "provenance": [],
      "toc_visible": true,
      "include_colab_link": true
    }
  },
  "cells": [
    {
      "cell_type": "markdown",
      "metadata": {
        "id": "view-in-github",
        "colab_type": "text"
      },
      "source": [
        "<a href=\"https://colab.research.google.com/github/Sep-eg/kagglestudy/blob/main/Porto/BCT_2lv_1st.ipynb\" target=\"_parent\"><img src=\"https://colab.research.google.com/assets/colab-badge.svg\" alt=\"Open In Colab\"/></a>"
      ]
    },
    {
      "cell_type": "markdown",
      "metadata": {
        "_cell_guid": "9113065c-6cec-4d35-8daa-57e9fdc6313e",
        "_uuid": "ecb402a1b7efe9eb6db47e7cab2c38861609ad94",
        "id": "tiHR7E29Zwxu"
      },
      "source": [
        "## Introduction"
      ]
    },
    {
      "cell_type": "markdown",
      "metadata": {
        "_cell_guid": "2dee8ae8-2bee-4609-96a8-8150b7e770cd",
        "_uuid": "7f8a20e1db4cf09d9e53245de8461ce409447649",
        "id": "B6xaSd99Zwxv"
      },
      "source": [
        "이 노트는 PorteSeguro 대회의 데이터에 대한 통찰력을 얻는 것을 목표로 합니다. 그 외에도 모델링을 위해 데이터를 준비할 수 있는 몇 가지 팁과 요령을 제공합니다. 노트북은 다음과 같은 주요 섹션으로 구성되어 있습니다.\n",
        "\n",
        "1. Visual inspection of your data\n",
        "2. Defining the metadata\n",
        "3. Descriptive statistics\n",
        "4. Handling imbalanced classes\n",
        "5. Data quality checks\n",
        "6. Exploratory data visualization\n",
        "7. Feature engineering\n",
        "8. Feature selection\n",
        "9. Feature scaling"
      ]
    },
    {
      "cell_type": "code",
      "metadata": {
        "colab": {
          "base_uri": "https://localhost:8080/"
        },
        "id": "jUiAdSaRaqVY",
        "outputId": "144889f8-cdf6-4610-c735-0959e062cf50"
      },
      "source": [
        "!mkdir ~/.kaggle\n",
        "!cp kaggle.json ~/.kaggle\n",
        "!kaggle competitions download -c porto-seguro-safe-driver-prediction"
      ],
      "execution_count": 1,
      "outputs": [
        {
          "output_type": "stream",
          "name": "stdout",
          "text": [
            "Warning: Your Kaggle API key is readable by other users on this system! To fix this, you can run 'chmod 600 /root/.kaggle/kaggle.json'\n",
            "Warning: Looks like you're using an outdated API Version, please consider updating (server 1.5.12 / client 1.5.4)\n",
            "Downloading train.csv.zip to /content\n",
            " 83% 25.0M/30.0M [00:00<00:00, 30.5MB/s]\n",
            "100% 30.0M/30.0M [00:00<00:00, 50.8MB/s]\n",
            "Downloading test.csv.zip to /content\n",
            " 92% 41.0M/44.4M [00:00<00:00, 24.4MB/s]\n",
            "100% 44.4M/44.4M [00:00<00:00, 48.2MB/s]\n",
            "Downloading sample_submission.csv.zip to /content\n",
            "  0% 0.00/2.12M [00:00<?, ?B/s]\n",
            "100% 2.12M/2.12M [00:00<00:00, 143MB/s]\n"
          ]
        }
      ]
    },
    {
      "cell_type": "code",
      "metadata": {
        "colab": {
          "base_uri": "https://localhost:8080/"
        },
        "id": "_qIqf4mXbtF6",
        "outputId": "6870c416-358f-4a10-a660-b9515b101c27"
      },
      "source": [
        "!unzip test.csv.zip\n",
        "!unzip train.csv.zip"
      ],
      "execution_count": 2,
      "outputs": [
        {
          "output_type": "stream",
          "name": "stdout",
          "text": [
            "Archive:  test.csv.zip\n",
            "  inflating: test.csv                \n",
            "Archive:  train.csv.zip\n",
            "  inflating: train.csv               \n"
          ]
        }
      ]
    },
    {
      "cell_type": "markdown",
      "metadata": {
        "_cell_guid": "10e44fab-4986-4a1a-aea4-71a75dde226e",
        "_uuid": "1fa2f6de517095b84ec92276aa092ed42b17c963",
        "id": "UDcvUzLfZwxw"
      },
      "source": [
        "## Loading packages"
      ]
    },
    {
      "cell_type": "code",
      "metadata": {
        "_cell_guid": "9e5063ed-1cdb-40a1-8ef7-6db3eae052e8",
        "_uuid": "d476415eb97241fd781c60b072dbdd7d687f3c56",
        "collapsed": true,
        "id": "pXf4ePyHZwxw"
      },
      "source": [
        "import pandas as pd\n",
        "import numpy as np\n",
        "import matplotlib.pyplot as plt\n",
        "import seaborn as sns\n",
        "\n",
        "from sklearn.impute import SimpleImputer as Imputer\n",
        "from sklearn.preprocessing import PolynomialFeatures, StandardScaler\n",
        "from sklearn.feature_selection import VarianceThreshold, SelectFromModel\n",
        "from sklearn.utils import shuffle\n",
        "from sklearn.ensemble import RandomForestClassifier\n",
        "\n",
        "pd.set_option('display.max_columns', 100)"
      ],
      "execution_count": 3,
      "outputs": []
    },
    {
      "cell_type": "markdown",
      "metadata": {
        "_cell_guid": "4999c076-25c2-49ca-a9b5-e588a22a3483",
        "_uuid": "619ddb7e5af828b65a422bc5096b77339e089998",
        "id": "FOHp9jdeZwxx"
      },
      "source": [
        "## Loading data"
      ]
    },
    {
      "cell_type": "code",
      "metadata": {
        "_cell_guid": "90743a5b-947a-4606-b069-2184c46d360c",
        "_uuid": "9ec9e8d9a85ae83c7659b08b10ee0cbd348fd189",
        "collapsed": true,
        "id": "1KZ0hy62Zwxy"
      },
      "source": [
        "train = pd.read_csv('train.csv')\n",
        "test = pd.read_csv('test.csv')"
      ],
      "execution_count": 4,
      "outputs": []
    },
    {
      "cell_type": "markdown",
      "metadata": {
        "_cell_guid": "2d6af15a-5d84-42e7-a9ff-66747f77c02f",
        "_uuid": "76e1f30f15f393e53d0beb081c3662a72bdf6f5b",
        "id": "ExPXTVS5Zwxy"
      },
      "source": [
        "<a class=\"anchor\" id=\"visual_inspection\"></a>"
      ]
    },
    {
      "cell_type": "markdown",
      "metadata": {
        "_cell_guid": "7fc6f68b-a256-49c5-962f-7d111189b0b2",
        "_uuid": "70d5a5616d07b4cab8f95af01d9439f2f48d020c",
        "id": "7oBhJnduZwxy"
      },
      "source": [
        "## Data at first sight"
      ]
    },
    {
      "cell_type": "markdown",
      "metadata": {
        "_cell_guid": "2ef0379a-bb4f-4aaf-b6dd-1d6de4290ad3",
        "_uuid": "40bef8a97ee39315a8cdf242e286d82cb99d5476",
        "id": "1yvy7_3HZwxz"
      },
      "source": [
        "다음은 대회에 대한 데이터 설명의 발췌문입니다.\n",
        "* **유사 그룹에 속하는 형상**은 형상 이름(예: ind, reg, car, calc)에서와 같이 **태그가 지정**된다.\n",
        "* 피쳐 이름에는 이진 피쳐를 나타내는 사후 수정 **bin**과 범주형 피쳐를 나타내는 **cat**이 포함됩니다. \n",
        "* 이러한 지정이 없는 **피쳐는 연속형 또는 순서형**입니다. \n",
        "* **-1**의 값은 형상이 관측치에서 **누락**되었음을 나타냅니다. \n",
        "* **target** 열은 해당 정책 소유자에 대한 클레임이 접수되었는지 여부를 나타냅니다.\n",
        "\n",
        "좋아요, 시작하는데 중요한 정보네요. 이 모든 것을 확인하기 위해 첫 번째 행과 마지막 행을 간단히 살펴보겠습니다."
      ]
    },
    {
      "cell_type": "code",
      "metadata": {
        "_cell_guid": "11f69996-f99e-4416-a16c-7f3c32d735b2",
        "_uuid": "625795d926a8a30f82afce4326788d2426baf11f",
        "collapsed": true,
        "colab": {
          "base_uri": "https://localhost:8080/",
          "height": 224
        },
        "id": "i7L3dq1BZwxz",
        "outputId": "20cf67b0-32ae-48ef-8acd-51eb84af1cff"
      },
      "source": [
        "train.head()"
      ],
      "execution_count": 5,
      "outputs": [
        {
          "output_type": "execute_result",
          "data": {
            "text/html": [
              "<div>\n",
              "<style scoped>\n",
              "    .dataframe tbody tr th:only-of-type {\n",
              "        vertical-align: middle;\n",
              "    }\n",
              "\n",
              "    .dataframe tbody tr th {\n",
              "        vertical-align: top;\n",
              "    }\n",
              "\n",
              "    .dataframe thead th {\n",
              "        text-align: right;\n",
              "    }\n",
              "</style>\n",
              "<table border=\"1\" class=\"dataframe\">\n",
              "  <thead>\n",
              "    <tr style=\"text-align: right;\">\n",
              "      <th></th>\n",
              "      <th>id</th>\n",
              "      <th>target</th>\n",
              "      <th>ps_ind_01</th>\n",
              "      <th>ps_ind_02_cat</th>\n",
              "      <th>ps_ind_03</th>\n",
              "      <th>ps_ind_04_cat</th>\n",
              "      <th>ps_ind_05_cat</th>\n",
              "      <th>ps_ind_06_bin</th>\n",
              "      <th>ps_ind_07_bin</th>\n",
              "      <th>ps_ind_08_bin</th>\n",
              "      <th>ps_ind_09_bin</th>\n",
              "      <th>ps_ind_10_bin</th>\n",
              "      <th>ps_ind_11_bin</th>\n",
              "      <th>ps_ind_12_bin</th>\n",
              "      <th>ps_ind_13_bin</th>\n",
              "      <th>ps_ind_14</th>\n",
              "      <th>ps_ind_15</th>\n",
              "      <th>ps_ind_16_bin</th>\n",
              "      <th>ps_ind_17_bin</th>\n",
              "      <th>ps_ind_18_bin</th>\n",
              "      <th>ps_reg_01</th>\n",
              "      <th>ps_reg_02</th>\n",
              "      <th>ps_reg_03</th>\n",
              "      <th>ps_car_01_cat</th>\n",
              "      <th>ps_car_02_cat</th>\n",
              "      <th>ps_car_03_cat</th>\n",
              "      <th>ps_car_04_cat</th>\n",
              "      <th>ps_car_05_cat</th>\n",
              "      <th>ps_car_06_cat</th>\n",
              "      <th>ps_car_07_cat</th>\n",
              "      <th>ps_car_08_cat</th>\n",
              "      <th>ps_car_09_cat</th>\n",
              "      <th>ps_car_10_cat</th>\n",
              "      <th>ps_car_11_cat</th>\n",
              "      <th>ps_car_11</th>\n",
              "      <th>ps_car_12</th>\n",
              "      <th>ps_car_13</th>\n",
              "      <th>ps_car_14</th>\n",
              "      <th>ps_car_15</th>\n",
              "      <th>ps_calc_01</th>\n",
              "      <th>ps_calc_02</th>\n",
              "      <th>ps_calc_03</th>\n",
              "      <th>ps_calc_04</th>\n",
              "      <th>ps_calc_05</th>\n",
              "      <th>ps_calc_06</th>\n",
              "      <th>ps_calc_07</th>\n",
              "      <th>ps_calc_08</th>\n",
              "      <th>ps_calc_09</th>\n",
              "      <th>ps_calc_10</th>\n",
              "      <th>ps_calc_11</th>\n",
              "      <th>ps_calc_12</th>\n",
              "      <th>ps_calc_13</th>\n",
              "      <th>ps_calc_14</th>\n",
              "      <th>ps_calc_15_bin</th>\n",
              "      <th>ps_calc_16_bin</th>\n",
              "      <th>ps_calc_17_bin</th>\n",
              "      <th>ps_calc_18_bin</th>\n",
              "      <th>ps_calc_19_bin</th>\n",
              "      <th>ps_calc_20_bin</th>\n",
              "    </tr>\n",
              "  </thead>\n",
              "  <tbody>\n",
              "    <tr>\n",
              "      <th>0</th>\n",
              "      <td>7</td>\n",
              "      <td>0</td>\n",
              "      <td>2</td>\n",
              "      <td>2</td>\n",
              "      <td>5</td>\n",
              "      <td>1</td>\n",
              "      <td>0</td>\n",
              "      <td>0</td>\n",
              "      <td>1</td>\n",
              "      <td>0</td>\n",
              "      <td>0</td>\n",
              "      <td>0</td>\n",
              "      <td>0</td>\n",
              "      <td>0</td>\n",
              "      <td>0</td>\n",
              "      <td>0</td>\n",
              "      <td>11</td>\n",
              "      <td>0</td>\n",
              "      <td>1</td>\n",
              "      <td>0</td>\n",
              "      <td>0.7</td>\n",
              "      <td>0.2</td>\n",
              "      <td>0.718070</td>\n",
              "      <td>10</td>\n",
              "      <td>1</td>\n",
              "      <td>-1</td>\n",
              "      <td>0</td>\n",
              "      <td>1</td>\n",
              "      <td>4</td>\n",
              "      <td>1</td>\n",
              "      <td>0</td>\n",
              "      <td>0</td>\n",
              "      <td>1</td>\n",
              "      <td>12</td>\n",
              "      <td>2</td>\n",
              "      <td>0.400000</td>\n",
              "      <td>0.883679</td>\n",
              "      <td>0.370810</td>\n",
              "      <td>3.605551</td>\n",
              "      <td>0.6</td>\n",
              "      <td>0.5</td>\n",
              "      <td>0.2</td>\n",
              "      <td>3</td>\n",
              "      <td>1</td>\n",
              "      <td>10</td>\n",
              "      <td>1</td>\n",
              "      <td>10</td>\n",
              "      <td>1</td>\n",
              "      <td>5</td>\n",
              "      <td>9</td>\n",
              "      <td>1</td>\n",
              "      <td>5</td>\n",
              "      <td>8</td>\n",
              "      <td>0</td>\n",
              "      <td>1</td>\n",
              "      <td>1</td>\n",
              "      <td>0</td>\n",
              "      <td>0</td>\n",
              "      <td>1</td>\n",
              "    </tr>\n",
              "    <tr>\n",
              "      <th>1</th>\n",
              "      <td>9</td>\n",
              "      <td>0</td>\n",
              "      <td>1</td>\n",
              "      <td>1</td>\n",
              "      <td>7</td>\n",
              "      <td>0</td>\n",
              "      <td>0</td>\n",
              "      <td>0</td>\n",
              "      <td>0</td>\n",
              "      <td>1</td>\n",
              "      <td>0</td>\n",
              "      <td>0</td>\n",
              "      <td>0</td>\n",
              "      <td>0</td>\n",
              "      <td>0</td>\n",
              "      <td>0</td>\n",
              "      <td>3</td>\n",
              "      <td>0</td>\n",
              "      <td>0</td>\n",
              "      <td>1</td>\n",
              "      <td>0.8</td>\n",
              "      <td>0.4</td>\n",
              "      <td>0.766078</td>\n",
              "      <td>11</td>\n",
              "      <td>1</td>\n",
              "      <td>-1</td>\n",
              "      <td>0</td>\n",
              "      <td>-1</td>\n",
              "      <td>11</td>\n",
              "      <td>1</td>\n",
              "      <td>1</td>\n",
              "      <td>2</td>\n",
              "      <td>1</td>\n",
              "      <td>19</td>\n",
              "      <td>3</td>\n",
              "      <td>0.316228</td>\n",
              "      <td>0.618817</td>\n",
              "      <td>0.388716</td>\n",
              "      <td>2.449490</td>\n",
              "      <td>0.3</td>\n",
              "      <td>0.1</td>\n",
              "      <td>0.3</td>\n",
              "      <td>2</td>\n",
              "      <td>1</td>\n",
              "      <td>9</td>\n",
              "      <td>5</td>\n",
              "      <td>8</td>\n",
              "      <td>1</td>\n",
              "      <td>7</td>\n",
              "      <td>3</td>\n",
              "      <td>1</td>\n",
              "      <td>1</td>\n",
              "      <td>9</td>\n",
              "      <td>0</td>\n",
              "      <td>1</td>\n",
              "      <td>1</td>\n",
              "      <td>0</td>\n",
              "      <td>1</td>\n",
              "      <td>0</td>\n",
              "    </tr>\n",
              "    <tr>\n",
              "      <th>2</th>\n",
              "      <td>13</td>\n",
              "      <td>0</td>\n",
              "      <td>5</td>\n",
              "      <td>4</td>\n",
              "      <td>9</td>\n",
              "      <td>1</td>\n",
              "      <td>0</td>\n",
              "      <td>0</td>\n",
              "      <td>0</td>\n",
              "      <td>1</td>\n",
              "      <td>0</td>\n",
              "      <td>0</td>\n",
              "      <td>0</td>\n",
              "      <td>0</td>\n",
              "      <td>0</td>\n",
              "      <td>0</td>\n",
              "      <td>12</td>\n",
              "      <td>1</td>\n",
              "      <td>0</td>\n",
              "      <td>0</td>\n",
              "      <td>0.0</td>\n",
              "      <td>0.0</td>\n",
              "      <td>-1.000000</td>\n",
              "      <td>7</td>\n",
              "      <td>1</td>\n",
              "      <td>-1</td>\n",
              "      <td>0</td>\n",
              "      <td>-1</td>\n",
              "      <td>14</td>\n",
              "      <td>1</td>\n",
              "      <td>1</td>\n",
              "      <td>2</td>\n",
              "      <td>1</td>\n",
              "      <td>60</td>\n",
              "      <td>1</td>\n",
              "      <td>0.316228</td>\n",
              "      <td>0.641586</td>\n",
              "      <td>0.347275</td>\n",
              "      <td>3.316625</td>\n",
              "      <td>0.5</td>\n",
              "      <td>0.7</td>\n",
              "      <td>0.1</td>\n",
              "      <td>2</td>\n",
              "      <td>2</td>\n",
              "      <td>9</td>\n",
              "      <td>1</td>\n",
              "      <td>8</td>\n",
              "      <td>2</td>\n",
              "      <td>7</td>\n",
              "      <td>4</td>\n",
              "      <td>2</td>\n",
              "      <td>7</td>\n",
              "      <td>7</td>\n",
              "      <td>0</td>\n",
              "      <td>1</td>\n",
              "      <td>1</td>\n",
              "      <td>0</td>\n",
              "      <td>1</td>\n",
              "      <td>0</td>\n",
              "    </tr>\n",
              "    <tr>\n",
              "      <th>3</th>\n",
              "      <td>16</td>\n",
              "      <td>0</td>\n",
              "      <td>0</td>\n",
              "      <td>1</td>\n",
              "      <td>2</td>\n",
              "      <td>0</td>\n",
              "      <td>0</td>\n",
              "      <td>1</td>\n",
              "      <td>0</td>\n",
              "      <td>0</td>\n",
              "      <td>0</td>\n",
              "      <td>0</td>\n",
              "      <td>0</td>\n",
              "      <td>0</td>\n",
              "      <td>0</td>\n",
              "      <td>0</td>\n",
              "      <td>8</td>\n",
              "      <td>1</td>\n",
              "      <td>0</td>\n",
              "      <td>0</td>\n",
              "      <td>0.9</td>\n",
              "      <td>0.2</td>\n",
              "      <td>0.580948</td>\n",
              "      <td>7</td>\n",
              "      <td>1</td>\n",
              "      <td>0</td>\n",
              "      <td>0</td>\n",
              "      <td>1</td>\n",
              "      <td>11</td>\n",
              "      <td>1</td>\n",
              "      <td>1</td>\n",
              "      <td>3</td>\n",
              "      <td>1</td>\n",
              "      <td>104</td>\n",
              "      <td>1</td>\n",
              "      <td>0.374166</td>\n",
              "      <td>0.542949</td>\n",
              "      <td>0.294958</td>\n",
              "      <td>2.000000</td>\n",
              "      <td>0.6</td>\n",
              "      <td>0.9</td>\n",
              "      <td>0.1</td>\n",
              "      <td>2</td>\n",
              "      <td>4</td>\n",
              "      <td>7</td>\n",
              "      <td>1</td>\n",
              "      <td>8</td>\n",
              "      <td>4</td>\n",
              "      <td>2</td>\n",
              "      <td>2</td>\n",
              "      <td>2</td>\n",
              "      <td>4</td>\n",
              "      <td>9</td>\n",
              "      <td>0</td>\n",
              "      <td>0</td>\n",
              "      <td>0</td>\n",
              "      <td>0</td>\n",
              "      <td>0</td>\n",
              "      <td>0</td>\n",
              "    </tr>\n",
              "    <tr>\n",
              "      <th>4</th>\n",
              "      <td>17</td>\n",
              "      <td>0</td>\n",
              "      <td>0</td>\n",
              "      <td>2</td>\n",
              "      <td>0</td>\n",
              "      <td>1</td>\n",
              "      <td>0</td>\n",
              "      <td>1</td>\n",
              "      <td>0</td>\n",
              "      <td>0</td>\n",
              "      <td>0</td>\n",
              "      <td>0</td>\n",
              "      <td>0</td>\n",
              "      <td>0</td>\n",
              "      <td>0</td>\n",
              "      <td>0</td>\n",
              "      <td>9</td>\n",
              "      <td>1</td>\n",
              "      <td>0</td>\n",
              "      <td>0</td>\n",
              "      <td>0.7</td>\n",
              "      <td>0.6</td>\n",
              "      <td>0.840759</td>\n",
              "      <td>11</td>\n",
              "      <td>1</td>\n",
              "      <td>-1</td>\n",
              "      <td>0</td>\n",
              "      <td>-1</td>\n",
              "      <td>14</td>\n",
              "      <td>1</td>\n",
              "      <td>1</td>\n",
              "      <td>2</td>\n",
              "      <td>1</td>\n",
              "      <td>82</td>\n",
              "      <td>3</td>\n",
              "      <td>0.316070</td>\n",
              "      <td>0.565832</td>\n",
              "      <td>0.365103</td>\n",
              "      <td>2.000000</td>\n",
              "      <td>0.4</td>\n",
              "      <td>0.6</td>\n",
              "      <td>0.0</td>\n",
              "      <td>2</td>\n",
              "      <td>2</td>\n",
              "      <td>6</td>\n",
              "      <td>3</td>\n",
              "      <td>10</td>\n",
              "      <td>2</td>\n",
              "      <td>12</td>\n",
              "      <td>3</td>\n",
              "      <td>1</td>\n",
              "      <td>1</td>\n",
              "      <td>3</td>\n",
              "      <td>0</td>\n",
              "      <td>0</td>\n",
              "      <td>0</td>\n",
              "      <td>1</td>\n",
              "      <td>1</td>\n",
              "      <td>0</td>\n",
              "    </tr>\n",
              "  </tbody>\n",
              "</table>\n",
              "</div>"
            ],
            "text/plain": [
              "   id  target  ps_ind_01  ps_ind_02_cat  ps_ind_03  ps_ind_04_cat  \\\n",
              "0   7       0          2              2          5              1   \n",
              "1   9       0          1              1          7              0   \n",
              "2  13       0          5              4          9              1   \n",
              "3  16       0          0              1          2              0   \n",
              "4  17       0          0              2          0              1   \n",
              "\n",
              "   ps_ind_05_cat  ps_ind_06_bin  ps_ind_07_bin  ps_ind_08_bin  ps_ind_09_bin  \\\n",
              "0              0              0              1              0              0   \n",
              "1              0              0              0              1              0   \n",
              "2              0              0              0              1              0   \n",
              "3              0              1              0              0              0   \n",
              "4              0              1              0              0              0   \n",
              "\n",
              "   ps_ind_10_bin  ps_ind_11_bin  ps_ind_12_bin  ps_ind_13_bin  ps_ind_14  \\\n",
              "0              0              0              0              0          0   \n",
              "1              0              0              0              0          0   \n",
              "2              0              0              0              0          0   \n",
              "3              0              0              0              0          0   \n",
              "4              0              0              0              0          0   \n",
              "\n",
              "   ps_ind_15  ps_ind_16_bin  ps_ind_17_bin  ps_ind_18_bin  ps_reg_01  \\\n",
              "0         11              0              1              0        0.7   \n",
              "1          3              0              0              1        0.8   \n",
              "2         12              1              0              0        0.0   \n",
              "3          8              1              0              0        0.9   \n",
              "4          9              1              0              0        0.7   \n",
              "\n",
              "   ps_reg_02  ps_reg_03  ps_car_01_cat  ps_car_02_cat  ps_car_03_cat  \\\n",
              "0        0.2   0.718070             10              1             -1   \n",
              "1        0.4   0.766078             11              1             -1   \n",
              "2        0.0  -1.000000              7              1             -1   \n",
              "3        0.2   0.580948              7              1              0   \n",
              "4        0.6   0.840759             11              1             -1   \n",
              "\n",
              "   ps_car_04_cat  ps_car_05_cat  ps_car_06_cat  ps_car_07_cat  ps_car_08_cat  \\\n",
              "0              0              1              4              1              0   \n",
              "1              0             -1             11              1              1   \n",
              "2              0             -1             14              1              1   \n",
              "3              0              1             11              1              1   \n",
              "4              0             -1             14              1              1   \n",
              "\n",
              "   ps_car_09_cat  ps_car_10_cat  ps_car_11_cat  ps_car_11  ps_car_12  \\\n",
              "0              0              1             12          2   0.400000   \n",
              "1              2              1             19          3   0.316228   \n",
              "2              2              1             60          1   0.316228   \n",
              "3              3              1            104          1   0.374166   \n",
              "4              2              1             82          3   0.316070   \n",
              "\n",
              "   ps_car_13  ps_car_14  ps_car_15  ps_calc_01  ps_calc_02  ps_calc_03  \\\n",
              "0   0.883679   0.370810   3.605551         0.6         0.5         0.2   \n",
              "1   0.618817   0.388716   2.449490         0.3         0.1         0.3   \n",
              "2   0.641586   0.347275   3.316625         0.5         0.7         0.1   \n",
              "3   0.542949   0.294958   2.000000         0.6         0.9         0.1   \n",
              "4   0.565832   0.365103   2.000000         0.4         0.6         0.0   \n",
              "\n",
              "   ps_calc_04  ps_calc_05  ps_calc_06  ps_calc_07  ps_calc_08  ps_calc_09  \\\n",
              "0           3           1          10           1          10           1   \n",
              "1           2           1           9           5           8           1   \n",
              "2           2           2           9           1           8           2   \n",
              "3           2           4           7           1           8           4   \n",
              "4           2           2           6           3          10           2   \n",
              "\n",
              "   ps_calc_10  ps_calc_11  ps_calc_12  ps_calc_13  ps_calc_14  ps_calc_15_bin  \\\n",
              "0           5           9           1           5           8               0   \n",
              "1           7           3           1           1           9               0   \n",
              "2           7           4           2           7           7               0   \n",
              "3           2           2           2           4           9               0   \n",
              "4          12           3           1           1           3               0   \n",
              "\n",
              "   ps_calc_16_bin  ps_calc_17_bin  ps_calc_18_bin  ps_calc_19_bin  \\\n",
              "0               1               1               0               0   \n",
              "1               1               1               0               1   \n",
              "2               1               1               0               1   \n",
              "3               0               0               0               0   \n",
              "4               0               0               1               1   \n",
              "\n",
              "   ps_calc_20_bin  \n",
              "0               1  \n",
              "1               0  \n",
              "2               0  \n",
              "3               0  \n",
              "4               0  "
            ]
          },
          "metadata": {},
          "execution_count": 5
        }
      ]
    },
    {
      "cell_type": "code",
      "metadata": {
        "_cell_guid": "575e4fe9-7cc6-47a6-90dc-45ff15aaeb34",
        "_uuid": "d1b2e1027f17fb5ea238e55d3ddba02bc4787e75",
        "collapsed": true,
        "colab": {
          "base_uri": "https://localhost:8080/",
          "height": 224
        },
        "id": "KlUMsv4UZwx0",
        "outputId": "6b6e1e83-6903-46d0-c3ed-7af48e0ff897"
      },
      "source": [
        "train.tail()"
      ],
      "execution_count": 6,
      "outputs": [
        {
          "output_type": "execute_result",
          "data": {
            "text/html": [
              "<div>\n",
              "<style scoped>\n",
              "    .dataframe tbody tr th:only-of-type {\n",
              "        vertical-align: middle;\n",
              "    }\n",
              "\n",
              "    .dataframe tbody tr th {\n",
              "        vertical-align: top;\n",
              "    }\n",
              "\n",
              "    .dataframe thead th {\n",
              "        text-align: right;\n",
              "    }\n",
              "</style>\n",
              "<table border=\"1\" class=\"dataframe\">\n",
              "  <thead>\n",
              "    <tr style=\"text-align: right;\">\n",
              "      <th></th>\n",
              "      <th>id</th>\n",
              "      <th>target</th>\n",
              "      <th>ps_ind_01</th>\n",
              "      <th>ps_ind_02_cat</th>\n",
              "      <th>ps_ind_03</th>\n",
              "      <th>ps_ind_04_cat</th>\n",
              "      <th>ps_ind_05_cat</th>\n",
              "      <th>ps_ind_06_bin</th>\n",
              "      <th>ps_ind_07_bin</th>\n",
              "      <th>ps_ind_08_bin</th>\n",
              "      <th>ps_ind_09_bin</th>\n",
              "      <th>ps_ind_10_bin</th>\n",
              "      <th>ps_ind_11_bin</th>\n",
              "      <th>ps_ind_12_bin</th>\n",
              "      <th>ps_ind_13_bin</th>\n",
              "      <th>ps_ind_14</th>\n",
              "      <th>ps_ind_15</th>\n",
              "      <th>ps_ind_16_bin</th>\n",
              "      <th>ps_ind_17_bin</th>\n",
              "      <th>ps_ind_18_bin</th>\n",
              "      <th>ps_reg_01</th>\n",
              "      <th>ps_reg_02</th>\n",
              "      <th>ps_reg_03</th>\n",
              "      <th>ps_car_01_cat</th>\n",
              "      <th>ps_car_02_cat</th>\n",
              "      <th>ps_car_03_cat</th>\n",
              "      <th>ps_car_04_cat</th>\n",
              "      <th>ps_car_05_cat</th>\n",
              "      <th>ps_car_06_cat</th>\n",
              "      <th>ps_car_07_cat</th>\n",
              "      <th>ps_car_08_cat</th>\n",
              "      <th>ps_car_09_cat</th>\n",
              "      <th>ps_car_10_cat</th>\n",
              "      <th>ps_car_11_cat</th>\n",
              "      <th>ps_car_11</th>\n",
              "      <th>ps_car_12</th>\n",
              "      <th>ps_car_13</th>\n",
              "      <th>ps_car_14</th>\n",
              "      <th>ps_car_15</th>\n",
              "      <th>ps_calc_01</th>\n",
              "      <th>ps_calc_02</th>\n",
              "      <th>ps_calc_03</th>\n",
              "      <th>ps_calc_04</th>\n",
              "      <th>ps_calc_05</th>\n",
              "      <th>ps_calc_06</th>\n",
              "      <th>ps_calc_07</th>\n",
              "      <th>ps_calc_08</th>\n",
              "      <th>ps_calc_09</th>\n",
              "      <th>ps_calc_10</th>\n",
              "      <th>ps_calc_11</th>\n",
              "      <th>ps_calc_12</th>\n",
              "      <th>ps_calc_13</th>\n",
              "      <th>ps_calc_14</th>\n",
              "      <th>ps_calc_15_bin</th>\n",
              "      <th>ps_calc_16_bin</th>\n",
              "      <th>ps_calc_17_bin</th>\n",
              "      <th>ps_calc_18_bin</th>\n",
              "      <th>ps_calc_19_bin</th>\n",
              "      <th>ps_calc_20_bin</th>\n",
              "    </tr>\n",
              "  </thead>\n",
              "  <tbody>\n",
              "    <tr>\n",
              "      <th>595207</th>\n",
              "      <td>1488013</td>\n",
              "      <td>0</td>\n",
              "      <td>3</td>\n",
              "      <td>1</td>\n",
              "      <td>10</td>\n",
              "      <td>0</td>\n",
              "      <td>0</td>\n",
              "      <td>0</td>\n",
              "      <td>0</td>\n",
              "      <td>0</td>\n",
              "      <td>1</td>\n",
              "      <td>0</td>\n",
              "      <td>0</td>\n",
              "      <td>0</td>\n",
              "      <td>0</td>\n",
              "      <td>0</td>\n",
              "      <td>13</td>\n",
              "      <td>1</td>\n",
              "      <td>0</td>\n",
              "      <td>0</td>\n",
              "      <td>0.5</td>\n",
              "      <td>0.3</td>\n",
              "      <td>0.692820</td>\n",
              "      <td>10</td>\n",
              "      <td>1</td>\n",
              "      <td>-1</td>\n",
              "      <td>0</td>\n",
              "      <td>1</td>\n",
              "      <td>1</td>\n",
              "      <td>1</td>\n",
              "      <td>1</td>\n",
              "      <td>0</td>\n",
              "      <td>1</td>\n",
              "      <td>31</td>\n",
              "      <td>3</td>\n",
              "      <td>0.374166</td>\n",
              "      <td>0.684631</td>\n",
              "      <td>0.385487</td>\n",
              "      <td>2.645751</td>\n",
              "      <td>0.4</td>\n",
              "      <td>0.5</td>\n",
              "      <td>0.3</td>\n",
              "      <td>3</td>\n",
              "      <td>0</td>\n",
              "      <td>9</td>\n",
              "      <td>0</td>\n",
              "      <td>9</td>\n",
              "      <td>1</td>\n",
              "      <td>12</td>\n",
              "      <td>4</td>\n",
              "      <td>1</td>\n",
              "      <td>9</td>\n",
              "      <td>6</td>\n",
              "      <td>0</td>\n",
              "      <td>1</td>\n",
              "      <td>1</td>\n",
              "      <td>0</td>\n",
              "      <td>1</td>\n",
              "      <td>1</td>\n",
              "    </tr>\n",
              "    <tr>\n",
              "      <th>595208</th>\n",
              "      <td>1488016</td>\n",
              "      <td>0</td>\n",
              "      <td>5</td>\n",
              "      <td>1</td>\n",
              "      <td>3</td>\n",
              "      <td>0</td>\n",
              "      <td>0</td>\n",
              "      <td>0</td>\n",
              "      <td>0</td>\n",
              "      <td>0</td>\n",
              "      <td>1</td>\n",
              "      <td>0</td>\n",
              "      <td>0</td>\n",
              "      <td>0</td>\n",
              "      <td>0</td>\n",
              "      <td>0</td>\n",
              "      <td>6</td>\n",
              "      <td>1</td>\n",
              "      <td>0</td>\n",
              "      <td>0</td>\n",
              "      <td>0.9</td>\n",
              "      <td>0.7</td>\n",
              "      <td>1.382027</td>\n",
              "      <td>9</td>\n",
              "      <td>1</td>\n",
              "      <td>-1</td>\n",
              "      <td>0</td>\n",
              "      <td>-1</td>\n",
              "      <td>15</td>\n",
              "      <td>0</td>\n",
              "      <td>0</td>\n",
              "      <td>2</td>\n",
              "      <td>1</td>\n",
              "      <td>63</td>\n",
              "      <td>2</td>\n",
              "      <td>0.387298</td>\n",
              "      <td>0.972145</td>\n",
              "      <td>-1.000000</td>\n",
              "      <td>3.605551</td>\n",
              "      <td>0.2</td>\n",
              "      <td>0.2</td>\n",
              "      <td>0.0</td>\n",
              "      <td>2</td>\n",
              "      <td>4</td>\n",
              "      <td>8</td>\n",
              "      <td>6</td>\n",
              "      <td>8</td>\n",
              "      <td>2</td>\n",
              "      <td>12</td>\n",
              "      <td>4</td>\n",
              "      <td>1</td>\n",
              "      <td>3</td>\n",
              "      <td>8</td>\n",
              "      <td>1</td>\n",
              "      <td>0</td>\n",
              "      <td>1</td>\n",
              "      <td>0</td>\n",
              "      <td>1</td>\n",
              "      <td>1</td>\n",
              "    </tr>\n",
              "    <tr>\n",
              "      <th>595209</th>\n",
              "      <td>1488017</td>\n",
              "      <td>0</td>\n",
              "      <td>1</td>\n",
              "      <td>1</td>\n",
              "      <td>10</td>\n",
              "      <td>0</td>\n",
              "      <td>0</td>\n",
              "      <td>1</td>\n",
              "      <td>0</td>\n",
              "      <td>0</td>\n",
              "      <td>0</td>\n",
              "      <td>0</td>\n",
              "      <td>0</td>\n",
              "      <td>0</td>\n",
              "      <td>0</td>\n",
              "      <td>0</td>\n",
              "      <td>12</td>\n",
              "      <td>1</td>\n",
              "      <td>0</td>\n",
              "      <td>0</td>\n",
              "      <td>0.9</td>\n",
              "      <td>0.2</td>\n",
              "      <td>0.659071</td>\n",
              "      <td>7</td>\n",
              "      <td>1</td>\n",
              "      <td>-1</td>\n",
              "      <td>0</td>\n",
              "      <td>-1</td>\n",
              "      <td>1</td>\n",
              "      <td>1</td>\n",
              "      <td>1</td>\n",
              "      <td>2</td>\n",
              "      <td>1</td>\n",
              "      <td>31</td>\n",
              "      <td>3</td>\n",
              "      <td>0.397492</td>\n",
              "      <td>0.596373</td>\n",
              "      <td>0.398748</td>\n",
              "      <td>1.732051</td>\n",
              "      <td>0.4</td>\n",
              "      <td>0.0</td>\n",
              "      <td>0.3</td>\n",
              "      <td>3</td>\n",
              "      <td>2</td>\n",
              "      <td>7</td>\n",
              "      <td>4</td>\n",
              "      <td>8</td>\n",
              "      <td>0</td>\n",
              "      <td>10</td>\n",
              "      <td>3</td>\n",
              "      <td>2</td>\n",
              "      <td>2</td>\n",
              "      <td>6</td>\n",
              "      <td>0</td>\n",
              "      <td>0</td>\n",
              "      <td>1</td>\n",
              "      <td>0</td>\n",
              "      <td>0</td>\n",
              "      <td>0</td>\n",
              "    </tr>\n",
              "    <tr>\n",
              "      <th>595210</th>\n",
              "      <td>1488021</td>\n",
              "      <td>0</td>\n",
              "      <td>5</td>\n",
              "      <td>2</td>\n",
              "      <td>3</td>\n",
              "      <td>1</td>\n",
              "      <td>0</td>\n",
              "      <td>0</td>\n",
              "      <td>0</td>\n",
              "      <td>1</td>\n",
              "      <td>0</td>\n",
              "      <td>0</td>\n",
              "      <td>0</td>\n",
              "      <td>0</td>\n",
              "      <td>0</td>\n",
              "      <td>0</td>\n",
              "      <td>12</td>\n",
              "      <td>1</td>\n",
              "      <td>0</td>\n",
              "      <td>0</td>\n",
              "      <td>0.9</td>\n",
              "      <td>0.4</td>\n",
              "      <td>0.698212</td>\n",
              "      <td>11</td>\n",
              "      <td>1</td>\n",
              "      <td>-1</td>\n",
              "      <td>0</td>\n",
              "      <td>-1</td>\n",
              "      <td>11</td>\n",
              "      <td>1</td>\n",
              "      <td>1</td>\n",
              "      <td>2</td>\n",
              "      <td>1</td>\n",
              "      <td>101</td>\n",
              "      <td>3</td>\n",
              "      <td>0.374166</td>\n",
              "      <td>0.764434</td>\n",
              "      <td>0.384968</td>\n",
              "      <td>3.162278</td>\n",
              "      <td>0.0</td>\n",
              "      <td>0.7</td>\n",
              "      <td>0.0</td>\n",
              "      <td>4</td>\n",
              "      <td>0</td>\n",
              "      <td>9</td>\n",
              "      <td>4</td>\n",
              "      <td>9</td>\n",
              "      <td>2</td>\n",
              "      <td>11</td>\n",
              "      <td>4</td>\n",
              "      <td>1</td>\n",
              "      <td>4</td>\n",
              "      <td>2</td>\n",
              "      <td>0</td>\n",
              "      <td>1</td>\n",
              "      <td>1</td>\n",
              "      <td>1</td>\n",
              "      <td>0</td>\n",
              "      <td>0</td>\n",
              "    </tr>\n",
              "    <tr>\n",
              "      <th>595211</th>\n",
              "      <td>1488027</td>\n",
              "      <td>0</td>\n",
              "      <td>0</td>\n",
              "      <td>1</td>\n",
              "      <td>8</td>\n",
              "      <td>0</td>\n",
              "      <td>0</td>\n",
              "      <td>1</td>\n",
              "      <td>0</td>\n",
              "      <td>0</td>\n",
              "      <td>0</td>\n",
              "      <td>0</td>\n",
              "      <td>0</td>\n",
              "      <td>0</td>\n",
              "      <td>0</td>\n",
              "      <td>0</td>\n",
              "      <td>7</td>\n",
              "      <td>1</td>\n",
              "      <td>0</td>\n",
              "      <td>0</td>\n",
              "      <td>0.1</td>\n",
              "      <td>0.2</td>\n",
              "      <td>-1.000000</td>\n",
              "      <td>7</td>\n",
              "      <td>0</td>\n",
              "      <td>-1</td>\n",
              "      <td>0</td>\n",
              "      <td>-1</td>\n",
              "      <td>0</td>\n",
              "      <td>1</td>\n",
              "      <td>0</td>\n",
              "      <td>2</td>\n",
              "      <td>1</td>\n",
              "      <td>34</td>\n",
              "      <td>2</td>\n",
              "      <td>0.400000</td>\n",
              "      <td>0.932649</td>\n",
              "      <td>0.378021</td>\n",
              "      <td>3.741657</td>\n",
              "      <td>0.4</td>\n",
              "      <td>0.0</td>\n",
              "      <td>0.5</td>\n",
              "      <td>2</td>\n",
              "      <td>3</td>\n",
              "      <td>10</td>\n",
              "      <td>4</td>\n",
              "      <td>10</td>\n",
              "      <td>2</td>\n",
              "      <td>5</td>\n",
              "      <td>4</td>\n",
              "      <td>4</td>\n",
              "      <td>3</td>\n",
              "      <td>8</td>\n",
              "      <td>0</td>\n",
              "      <td>1</td>\n",
              "      <td>0</td>\n",
              "      <td>0</td>\n",
              "      <td>0</td>\n",
              "      <td>0</td>\n",
              "    </tr>\n",
              "  </tbody>\n",
              "</table>\n",
              "</div>"
            ],
            "text/plain": [
              "             id  target  ps_ind_01  ps_ind_02_cat  ps_ind_03  ps_ind_04_cat  \\\n",
              "595207  1488013       0          3              1         10              0   \n",
              "595208  1488016       0          5              1          3              0   \n",
              "595209  1488017       0          1              1         10              0   \n",
              "595210  1488021       0          5              2          3              1   \n",
              "595211  1488027       0          0              1          8              0   \n",
              "\n",
              "        ps_ind_05_cat  ps_ind_06_bin  ps_ind_07_bin  ps_ind_08_bin  \\\n",
              "595207              0              0              0              0   \n",
              "595208              0              0              0              0   \n",
              "595209              0              1              0              0   \n",
              "595210              0              0              0              1   \n",
              "595211              0              1              0              0   \n",
              "\n",
              "        ps_ind_09_bin  ps_ind_10_bin  ps_ind_11_bin  ps_ind_12_bin  \\\n",
              "595207              1              0              0              0   \n",
              "595208              1              0              0              0   \n",
              "595209              0              0              0              0   \n",
              "595210              0              0              0              0   \n",
              "595211              0              0              0              0   \n",
              "\n",
              "        ps_ind_13_bin  ps_ind_14  ps_ind_15  ps_ind_16_bin  ps_ind_17_bin  \\\n",
              "595207              0          0         13              1              0   \n",
              "595208              0          0          6              1              0   \n",
              "595209              0          0         12              1              0   \n",
              "595210              0          0         12              1              0   \n",
              "595211              0          0          7              1              0   \n",
              "\n",
              "        ps_ind_18_bin  ps_reg_01  ps_reg_02  ps_reg_03  ps_car_01_cat  \\\n",
              "595207              0        0.5        0.3   0.692820             10   \n",
              "595208              0        0.9        0.7   1.382027              9   \n",
              "595209              0        0.9        0.2   0.659071              7   \n",
              "595210              0        0.9        0.4   0.698212             11   \n",
              "595211              0        0.1        0.2  -1.000000              7   \n",
              "\n",
              "        ps_car_02_cat  ps_car_03_cat  ps_car_04_cat  ps_car_05_cat  \\\n",
              "595207              1             -1              0              1   \n",
              "595208              1             -1              0             -1   \n",
              "595209              1             -1              0             -1   \n",
              "595210              1             -1              0             -1   \n",
              "595211              0             -1              0             -1   \n",
              "\n",
              "        ps_car_06_cat  ps_car_07_cat  ps_car_08_cat  ps_car_09_cat  \\\n",
              "595207              1              1              1              0   \n",
              "595208             15              0              0              2   \n",
              "595209              1              1              1              2   \n",
              "595210             11              1              1              2   \n",
              "595211              0              1              0              2   \n",
              "\n",
              "        ps_car_10_cat  ps_car_11_cat  ps_car_11  ps_car_12  ps_car_13  \\\n",
              "595207              1             31          3   0.374166   0.684631   \n",
              "595208              1             63          2   0.387298   0.972145   \n",
              "595209              1             31          3   0.397492   0.596373   \n",
              "595210              1            101          3   0.374166   0.764434   \n",
              "595211              1             34          2   0.400000   0.932649   \n",
              "\n",
              "        ps_car_14  ps_car_15  ps_calc_01  ps_calc_02  ps_calc_03  ps_calc_04  \\\n",
              "595207   0.385487   2.645751         0.4         0.5         0.3           3   \n",
              "595208  -1.000000   3.605551         0.2         0.2         0.0           2   \n",
              "595209   0.398748   1.732051         0.4         0.0         0.3           3   \n",
              "595210   0.384968   3.162278         0.0         0.7         0.0           4   \n",
              "595211   0.378021   3.741657         0.4         0.0         0.5           2   \n",
              "\n",
              "        ps_calc_05  ps_calc_06  ps_calc_07  ps_calc_08  ps_calc_09  \\\n",
              "595207           0           9           0           9           1   \n",
              "595208           4           8           6           8           2   \n",
              "595209           2           7           4           8           0   \n",
              "595210           0           9           4           9           2   \n",
              "595211           3          10           4          10           2   \n",
              "\n",
              "        ps_calc_10  ps_calc_11  ps_calc_12  ps_calc_13  ps_calc_14  \\\n",
              "595207          12           4           1           9           6   \n",
              "595208          12           4           1           3           8   \n",
              "595209          10           3           2           2           6   \n",
              "595210          11           4           1           4           2   \n",
              "595211           5           4           4           3           8   \n",
              "\n",
              "        ps_calc_15_bin  ps_calc_16_bin  ps_calc_17_bin  ps_calc_18_bin  \\\n",
              "595207               0               1               1               0   \n",
              "595208               1               0               1               0   \n",
              "595209               0               0               1               0   \n",
              "595210               0               1               1               1   \n",
              "595211               0               1               0               0   \n",
              "\n",
              "        ps_calc_19_bin  ps_calc_20_bin  \n",
              "595207               1               1  \n",
              "595208               1               1  \n",
              "595209               0               0  \n",
              "595210               0               0  \n",
              "595211               0               0  "
            ]
          },
          "metadata": {},
          "execution_count": 6
        }
      ]
    },
    {
      "cell_type": "markdown",
      "metadata": {
        "_cell_guid": "8a25bd9a-88cf-4dc3-8640-f5006b9d343c",
        "_uuid": "747c8bac1a0549b803325f2de3c2173b384ed9e0",
        "id": "TNcLCGY_Zwx1"
      },
      "source": [
        "우리는 실제로 다음을 본다.\n",
        "* 이진 변수\n",
        "* 범주 값이 정수인 범주형 변수\n",
        "* 정수 또는 부동값을 갖는 기타 변수\n",
        "* -1이 결측값을 나타내는 변수\n",
        "* 대상 변수와 ID 변수"
      ]
    },
    {
      "cell_type": "markdown",
      "metadata": {
        "_cell_guid": "bcf7b21e-134b-4be6-b352-a5d8eff5b23e",
        "_uuid": "c642b9834400a789f560d53dabb5c63ebbbe4196",
        "id": "vN4-gbrLZwx1"
      },
      "source": [
        "Let's look at the number of rows and columns in the train data."
      ]
    },
    {
      "cell_type": "code",
      "metadata": {
        "_cell_guid": "8ae01653-e1c9-4209-8bb1-2734f8d1302c",
        "_uuid": "cf8d1a98a0655cdcf1e12cb84dff9e61430a7eeb",
        "collapsed": true,
        "colab": {
          "base_uri": "https://localhost:8080/"
        },
        "id": "u60YQS9pZwx1",
        "outputId": "dffde8aa-7cd4-4831-9db1-4788936375f6"
      },
      "source": [
        "train.shape"
      ],
      "execution_count": 7,
      "outputs": [
        {
          "output_type": "execute_result",
          "data": {
            "text/plain": [
              "(595212, 59)"
            ]
          },
          "metadata": {},
          "execution_count": 7
        }
      ]
    },
    {
      "cell_type": "markdown",
      "metadata": {
        "_cell_guid": "4317596e-2187-4660-973a-1f53a2f26d66",
        "_uuid": "c86138e65f4c51c83d3dddc31352739cc24a1771",
        "id": "6w-ca_WqZwx2"
      },
      "source": [
        "59개의 변수와 595.212개의 행이 있습니다. 검정 데이터에 같은 수의 변수가 있는지 알아보겠습니다.<br>\n",
        "교육 데이터에 중복된 행이 있는지 확인해 보겠습니다."
      ]
    },
    {
      "cell_type": "code",
      "metadata": {
        "_cell_guid": "8849f509-7745-465b-83ab-3f1240a7b05c",
        "_uuid": "c8caf45461f3a4699fbdea55036a5954d9668437",
        "collapsed": true,
        "colab": {
          "base_uri": "https://localhost:8080/"
        },
        "id": "1Z51Vw2jZwx2",
        "outputId": "c9039a1f-00e5-4b0f-f09c-e286af72df5d"
      },
      "source": [
        "train.drop_duplicates()\n",
        "train.shape"
      ],
      "execution_count": 8,
      "outputs": [
        {
          "output_type": "execute_result",
          "data": {
            "text/plain": [
              "(595212, 59)"
            ]
          },
          "metadata": {},
          "execution_count": 8
        }
      ]
    },
    {
      "cell_type": "markdown",
      "metadata": {
        "_cell_guid": "6250b262-91a0-4f8c-8ebe-1e77f2fd014b",
        "_uuid": "36f73dc547915f8f76d1bf8353ad55b88f7458b1",
        "id": "r6d5Wc_bZwx2"
      },
      "source": [
        "No duplicate rows, so that's fine."
      ]
    },
    {
      "cell_type": "code",
      "metadata": {
        "_cell_guid": "166c851a-fec1-4b56-9773-42c0387c6ec8",
        "_uuid": "625dfedf9b72916b41bac4d65162c8795f629ef5",
        "collapsed": true,
        "colab": {
          "base_uri": "https://localhost:8080/"
        },
        "id": "N6LIE_WIZwx3",
        "outputId": "bece48b9-63b0-4e4c-a9a9-a63ec47d9087"
      },
      "source": [
        "test.shape"
      ],
      "execution_count": 9,
      "outputs": [
        {
          "output_type": "execute_result",
          "data": {
            "text/plain": [
              "(892816, 58)"
            ]
          },
          "metadata": {},
          "execution_count": 9
        }
      ]
    },
    {
      "cell_type": "markdown",
      "metadata": {
        "_cell_guid": "6026084c-7c7f-41ec-8997-71092654c88b",
        "_uuid": "8497a0ad66cfaabdae29008ba5858eea6220237a",
        "id": "FUH_2hUQZwx3"
      },
      "source": [
        "테스트 세트에는 변수가 하나 누락되어 있지만 이것이 대상 변수입니다. 그러니까 괜찮아요.<br>\n",
        "이제 각 유형별로 얼마나 많은 변수가 있는지 알아보겠습니다."
      ]
    },
    {
      "cell_type": "markdown",
      "metadata": {
        "_cell_guid": "3acba6c1-0a13-4fc8-a44f-4d875231e305",
        "_uuid": "b3811d638cd0ddc29c313909c484c09266955e2a",
        "id": "s-fM9hpfZwx3"
      },
      "source": [
        "나중에 14개의 범주형 변수에 대한 더미 변수를 만들 수 있습니다. *bin* 변수는 이미 이진수이므로 더미화가 필요하지 않습니다."
      ]
    },
    {
      "cell_type": "code",
      "metadata": {
        "_cell_guid": "d6a388dc-5f8a-41fc-96be-2482d0a3065b",
        "_uuid": "72b79686592a00d17cf3f7cb21c96297bb5c73e4",
        "collapsed": true,
        "colab": {
          "base_uri": "https://localhost:8080/"
        },
        "id": "ykwkBYVUZwx4",
        "outputId": "ce7eacd9-942c-4d28-8c36-30c05491793a"
      },
      "source": [
        "train.info()"
      ],
      "execution_count": 10,
      "outputs": [
        {
          "output_type": "stream",
          "name": "stdout",
          "text": [
            "<class 'pandas.core.frame.DataFrame'>\n",
            "RangeIndex: 595212 entries, 0 to 595211\n",
            "Data columns (total 59 columns):\n",
            " #   Column          Non-Null Count   Dtype  \n",
            "---  ------          --------------   -----  \n",
            " 0   id              595212 non-null  int64  \n",
            " 1   target          595212 non-null  int64  \n",
            " 2   ps_ind_01       595212 non-null  int64  \n",
            " 3   ps_ind_02_cat   595212 non-null  int64  \n",
            " 4   ps_ind_03       595212 non-null  int64  \n",
            " 5   ps_ind_04_cat   595212 non-null  int64  \n",
            " 6   ps_ind_05_cat   595212 non-null  int64  \n",
            " 7   ps_ind_06_bin   595212 non-null  int64  \n",
            " 8   ps_ind_07_bin   595212 non-null  int64  \n",
            " 9   ps_ind_08_bin   595212 non-null  int64  \n",
            " 10  ps_ind_09_bin   595212 non-null  int64  \n",
            " 11  ps_ind_10_bin   595212 non-null  int64  \n",
            " 12  ps_ind_11_bin   595212 non-null  int64  \n",
            " 13  ps_ind_12_bin   595212 non-null  int64  \n",
            " 14  ps_ind_13_bin   595212 non-null  int64  \n",
            " 15  ps_ind_14       595212 non-null  int64  \n",
            " 16  ps_ind_15       595212 non-null  int64  \n",
            " 17  ps_ind_16_bin   595212 non-null  int64  \n",
            " 18  ps_ind_17_bin   595212 non-null  int64  \n",
            " 19  ps_ind_18_bin   595212 non-null  int64  \n",
            " 20  ps_reg_01       595212 non-null  float64\n",
            " 21  ps_reg_02       595212 non-null  float64\n",
            " 22  ps_reg_03       595212 non-null  float64\n",
            " 23  ps_car_01_cat   595212 non-null  int64  \n",
            " 24  ps_car_02_cat   595212 non-null  int64  \n",
            " 25  ps_car_03_cat   595212 non-null  int64  \n",
            " 26  ps_car_04_cat   595212 non-null  int64  \n",
            " 27  ps_car_05_cat   595212 non-null  int64  \n",
            " 28  ps_car_06_cat   595212 non-null  int64  \n",
            " 29  ps_car_07_cat   595212 non-null  int64  \n",
            " 30  ps_car_08_cat   595212 non-null  int64  \n",
            " 31  ps_car_09_cat   595212 non-null  int64  \n",
            " 32  ps_car_10_cat   595212 non-null  int64  \n",
            " 33  ps_car_11_cat   595212 non-null  int64  \n",
            " 34  ps_car_11       595212 non-null  int64  \n",
            " 35  ps_car_12       595212 non-null  float64\n",
            " 36  ps_car_13       595212 non-null  float64\n",
            " 37  ps_car_14       595212 non-null  float64\n",
            " 38  ps_car_15       595212 non-null  float64\n",
            " 39  ps_calc_01      595212 non-null  float64\n",
            " 40  ps_calc_02      595212 non-null  float64\n",
            " 41  ps_calc_03      595212 non-null  float64\n",
            " 42  ps_calc_04      595212 non-null  int64  \n",
            " 43  ps_calc_05      595212 non-null  int64  \n",
            " 44  ps_calc_06      595212 non-null  int64  \n",
            " 45  ps_calc_07      595212 non-null  int64  \n",
            " 46  ps_calc_08      595212 non-null  int64  \n",
            " 47  ps_calc_09      595212 non-null  int64  \n",
            " 48  ps_calc_10      595212 non-null  int64  \n",
            " 49  ps_calc_11      595212 non-null  int64  \n",
            " 50  ps_calc_12      595212 non-null  int64  \n",
            " 51  ps_calc_13      595212 non-null  int64  \n",
            " 52  ps_calc_14      595212 non-null  int64  \n",
            " 53  ps_calc_15_bin  595212 non-null  int64  \n",
            " 54  ps_calc_16_bin  595212 non-null  int64  \n",
            " 55  ps_calc_17_bin  595212 non-null  int64  \n",
            " 56  ps_calc_18_bin  595212 non-null  int64  \n",
            " 57  ps_calc_19_bin  595212 non-null  int64  \n",
            " 58  ps_calc_20_bin  595212 non-null  int64  \n",
            "dtypes: float64(10), int64(49)\n",
            "memory usage: 267.9 MB\n"
          ]
        }
      ]
    },
    {
      "cell_type": "markdown",
      "metadata": {
        "_cell_guid": "3604dd16-8583-43c2-bc6d-8399769b5ce6",
        "_uuid": "6f1c3ceabc4efc0f500701df2ea9843e9f4a5e19",
        "id": "0Nb_sZC8Zwx4"
      },
      "source": [
        "다시 info() 방법을 사용하면 데이터 형식이 정수 또는 부동임을 알 수 있습니다. 데이터 집합에 null 값이 없습니다. 결측값이 -1로 대체되기 때문에 정상입니다. 그건 나중에 알아보죠"
      ]
    },
    {
      "cell_type": "markdown",
      "metadata": {
        "_cell_guid": "5b42fec3-d32b-4da5-b0f9-981671c30bda",
        "_uuid": "99afca7b33389f5804fed9a726a93ef43de5447f",
        "id": "1GUryJ9zZwx4"
      },
      "source": [
        "<a class=\"anchor\" id=\"metadata\"></a>"
      ]
    },
    {
      "cell_type": "markdown",
      "metadata": {
        "_cell_guid": "02caecab-1d07-4c23-adfa-75f695820466",
        "_uuid": "b5fee402ea3679bfe67a73d26ccb822f7c137e61",
        "id": "SVFf2vZ4Zwx4"
      },
      "source": [
        "## Metadata\n",
        "데이터 관리를 용이하게 하기 위해 DataFrame의 변수에 대한 메타 정보를 저장하겠습니다. 분석, 시각화, 모델링 등을 위해 특정 변수를 선택하고 싶을 때 유용합니다.\n",
        "\n",
        "구체적으로 다음 사항을 저장할 것입니다.\n",
        "- **role**: input, ID, target\n",
        "- **level**: norminal, interval, ordinal, binary\n",
        "- **keep**: True or False\n",
        "- **dtype**: int, float, str"
      ]
    },
    {
      "cell_type": "code",
      "metadata": {
        "_cell_guid": "21cb4f9d-bfb4-41cc-a3f6-f1977d372919",
        "_uuid": "e2f6389d37921cf5487c3a959c18ca9d24348567",
        "collapsed": true,
        "id": "X8a-tU6bZwx5"
      },
      "source": [
        "data = []\n",
        "for f in train.columns:\n",
        "    # Defining the role\n",
        "    if f == 'target':\n",
        "        role = 'target'\n",
        "    elif f == 'id':\n",
        "        role = 'id'\n",
        "    else:\n",
        "        role = 'input'\n",
        "\n",
        "    # defining the level\n",
        "    if 'bin' in f or f == 'target':\n",
        "        level = 'binary'\n",
        "    elif 'cat' in f or f == 'id':\n",
        "        level = 'nominal'\n",
        "    elif train[f].dtype == float:\n",
        "        level = 'interval'\n",
        "    elif train[f].dtype == int:\n",
        "        level = 'ordinal'\n",
        "\n",
        "    # initialize keep to True for all variables except for id\n",
        "    keep = True\n",
        "    if f == 'id':\n",
        "        keep = False\n",
        "    \n",
        "    # defining the data type\n",
        "    dtype = train[f].dtype\n",
        "\n",
        "    # Creating a Dict that contains all the metadata for the variable\n",
        "    f_dict = {\n",
        "        'varname' : f,\n",
        "        'role' : role,\n",
        "        'level' : level,\n",
        "        'keep' : keep,\n",
        "        'dtype' : dtype\n",
        "    }\n",
        "    data.append(f_dict)\n",
        "\n",
        "meta = pd.DataFrame(data, columns=['varname', 'role', 'level', 'keep', 'dtype'])\n",
        "meta.set_index('varname', inplace=True)"
      ],
      "execution_count": 11,
      "outputs": []
    },
    {
      "cell_type": "code",
      "metadata": {
        "_cell_guid": "92fb93fd-d907-4221-8063-81880811e922",
        "_uuid": "ddbf4683c3c5aeaa1472d82376375f9618b8926e",
        "colab": {
          "base_uri": "https://localhost:8080/",
          "height": 1000
        },
        "id": "iBsAj1wMZwx5",
        "outputId": "078894aa-738f-4f3b-9a46-b04c601bc44a"
      },
      "source": [
        "meta"
      ],
      "execution_count": 12,
      "outputs": [
        {
          "output_type": "execute_result",
          "data": {
            "text/html": [
              "<div>\n",
              "<style scoped>\n",
              "    .dataframe tbody tr th:only-of-type {\n",
              "        vertical-align: middle;\n",
              "    }\n",
              "\n",
              "    .dataframe tbody tr th {\n",
              "        vertical-align: top;\n",
              "    }\n",
              "\n",
              "    .dataframe thead th {\n",
              "        text-align: right;\n",
              "    }\n",
              "</style>\n",
              "<table border=\"1\" class=\"dataframe\">\n",
              "  <thead>\n",
              "    <tr style=\"text-align: right;\">\n",
              "      <th></th>\n",
              "      <th>role</th>\n",
              "      <th>level</th>\n",
              "      <th>keep</th>\n",
              "      <th>dtype</th>\n",
              "    </tr>\n",
              "    <tr>\n",
              "      <th>varname</th>\n",
              "      <th></th>\n",
              "      <th></th>\n",
              "      <th></th>\n",
              "      <th></th>\n",
              "    </tr>\n",
              "  </thead>\n",
              "  <tbody>\n",
              "    <tr>\n",
              "      <th>id</th>\n",
              "      <td>id</td>\n",
              "      <td>nominal</td>\n",
              "      <td>False</td>\n",
              "      <td>int64</td>\n",
              "    </tr>\n",
              "    <tr>\n",
              "      <th>target</th>\n",
              "      <td>target</td>\n",
              "      <td>binary</td>\n",
              "      <td>True</td>\n",
              "      <td>int64</td>\n",
              "    </tr>\n",
              "    <tr>\n",
              "      <th>ps_ind_01</th>\n",
              "      <td>input</td>\n",
              "      <td>ordinal</td>\n",
              "      <td>True</td>\n",
              "      <td>int64</td>\n",
              "    </tr>\n",
              "    <tr>\n",
              "      <th>ps_ind_02_cat</th>\n",
              "      <td>input</td>\n",
              "      <td>nominal</td>\n",
              "      <td>True</td>\n",
              "      <td>int64</td>\n",
              "    </tr>\n",
              "    <tr>\n",
              "      <th>ps_ind_03</th>\n",
              "      <td>input</td>\n",
              "      <td>ordinal</td>\n",
              "      <td>True</td>\n",
              "      <td>int64</td>\n",
              "    </tr>\n",
              "    <tr>\n",
              "      <th>ps_ind_04_cat</th>\n",
              "      <td>input</td>\n",
              "      <td>nominal</td>\n",
              "      <td>True</td>\n",
              "      <td>int64</td>\n",
              "    </tr>\n",
              "    <tr>\n",
              "      <th>ps_ind_05_cat</th>\n",
              "      <td>input</td>\n",
              "      <td>nominal</td>\n",
              "      <td>True</td>\n",
              "      <td>int64</td>\n",
              "    </tr>\n",
              "    <tr>\n",
              "      <th>ps_ind_06_bin</th>\n",
              "      <td>input</td>\n",
              "      <td>binary</td>\n",
              "      <td>True</td>\n",
              "      <td>int64</td>\n",
              "    </tr>\n",
              "    <tr>\n",
              "      <th>ps_ind_07_bin</th>\n",
              "      <td>input</td>\n",
              "      <td>binary</td>\n",
              "      <td>True</td>\n",
              "      <td>int64</td>\n",
              "    </tr>\n",
              "    <tr>\n",
              "      <th>ps_ind_08_bin</th>\n",
              "      <td>input</td>\n",
              "      <td>binary</td>\n",
              "      <td>True</td>\n",
              "      <td>int64</td>\n",
              "    </tr>\n",
              "    <tr>\n",
              "      <th>ps_ind_09_bin</th>\n",
              "      <td>input</td>\n",
              "      <td>binary</td>\n",
              "      <td>True</td>\n",
              "      <td>int64</td>\n",
              "    </tr>\n",
              "    <tr>\n",
              "      <th>ps_ind_10_bin</th>\n",
              "      <td>input</td>\n",
              "      <td>binary</td>\n",
              "      <td>True</td>\n",
              "      <td>int64</td>\n",
              "    </tr>\n",
              "    <tr>\n",
              "      <th>ps_ind_11_bin</th>\n",
              "      <td>input</td>\n",
              "      <td>binary</td>\n",
              "      <td>True</td>\n",
              "      <td>int64</td>\n",
              "    </tr>\n",
              "    <tr>\n",
              "      <th>ps_ind_12_bin</th>\n",
              "      <td>input</td>\n",
              "      <td>binary</td>\n",
              "      <td>True</td>\n",
              "      <td>int64</td>\n",
              "    </tr>\n",
              "    <tr>\n",
              "      <th>ps_ind_13_bin</th>\n",
              "      <td>input</td>\n",
              "      <td>binary</td>\n",
              "      <td>True</td>\n",
              "      <td>int64</td>\n",
              "    </tr>\n",
              "    <tr>\n",
              "      <th>ps_ind_14</th>\n",
              "      <td>input</td>\n",
              "      <td>ordinal</td>\n",
              "      <td>True</td>\n",
              "      <td>int64</td>\n",
              "    </tr>\n",
              "    <tr>\n",
              "      <th>ps_ind_15</th>\n",
              "      <td>input</td>\n",
              "      <td>ordinal</td>\n",
              "      <td>True</td>\n",
              "      <td>int64</td>\n",
              "    </tr>\n",
              "    <tr>\n",
              "      <th>ps_ind_16_bin</th>\n",
              "      <td>input</td>\n",
              "      <td>binary</td>\n",
              "      <td>True</td>\n",
              "      <td>int64</td>\n",
              "    </tr>\n",
              "    <tr>\n",
              "      <th>ps_ind_17_bin</th>\n",
              "      <td>input</td>\n",
              "      <td>binary</td>\n",
              "      <td>True</td>\n",
              "      <td>int64</td>\n",
              "    </tr>\n",
              "    <tr>\n",
              "      <th>ps_ind_18_bin</th>\n",
              "      <td>input</td>\n",
              "      <td>binary</td>\n",
              "      <td>True</td>\n",
              "      <td>int64</td>\n",
              "    </tr>\n",
              "    <tr>\n",
              "      <th>ps_reg_01</th>\n",
              "      <td>input</td>\n",
              "      <td>interval</td>\n",
              "      <td>True</td>\n",
              "      <td>float64</td>\n",
              "    </tr>\n",
              "    <tr>\n",
              "      <th>ps_reg_02</th>\n",
              "      <td>input</td>\n",
              "      <td>interval</td>\n",
              "      <td>True</td>\n",
              "      <td>float64</td>\n",
              "    </tr>\n",
              "    <tr>\n",
              "      <th>ps_reg_03</th>\n",
              "      <td>input</td>\n",
              "      <td>interval</td>\n",
              "      <td>True</td>\n",
              "      <td>float64</td>\n",
              "    </tr>\n",
              "    <tr>\n",
              "      <th>ps_car_01_cat</th>\n",
              "      <td>input</td>\n",
              "      <td>nominal</td>\n",
              "      <td>True</td>\n",
              "      <td>int64</td>\n",
              "    </tr>\n",
              "    <tr>\n",
              "      <th>ps_car_02_cat</th>\n",
              "      <td>input</td>\n",
              "      <td>nominal</td>\n",
              "      <td>True</td>\n",
              "      <td>int64</td>\n",
              "    </tr>\n",
              "    <tr>\n",
              "      <th>ps_car_03_cat</th>\n",
              "      <td>input</td>\n",
              "      <td>nominal</td>\n",
              "      <td>True</td>\n",
              "      <td>int64</td>\n",
              "    </tr>\n",
              "    <tr>\n",
              "      <th>ps_car_04_cat</th>\n",
              "      <td>input</td>\n",
              "      <td>nominal</td>\n",
              "      <td>True</td>\n",
              "      <td>int64</td>\n",
              "    </tr>\n",
              "    <tr>\n",
              "      <th>ps_car_05_cat</th>\n",
              "      <td>input</td>\n",
              "      <td>nominal</td>\n",
              "      <td>True</td>\n",
              "      <td>int64</td>\n",
              "    </tr>\n",
              "    <tr>\n",
              "      <th>ps_car_06_cat</th>\n",
              "      <td>input</td>\n",
              "      <td>nominal</td>\n",
              "      <td>True</td>\n",
              "      <td>int64</td>\n",
              "    </tr>\n",
              "    <tr>\n",
              "      <th>ps_car_07_cat</th>\n",
              "      <td>input</td>\n",
              "      <td>nominal</td>\n",
              "      <td>True</td>\n",
              "      <td>int64</td>\n",
              "    </tr>\n",
              "    <tr>\n",
              "      <th>ps_car_08_cat</th>\n",
              "      <td>input</td>\n",
              "      <td>nominal</td>\n",
              "      <td>True</td>\n",
              "      <td>int64</td>\n",
              "    </tr>\n",
              "    <tr>\n",
              "      <th>ps_car_09_cat</th>\n",
              "      <td>input</td>\n",
              "      <td>nominal</td>\n",
              "      <td>True</td>\n",
              "      <td>int64</td>\n",
              "    </tr>\n",
              "    <tr>\n",
              "      <th>ps_car_10_cat</th>\n",
              "      <td>input</td>\n",
              "      <td>nominal</td>\n",
              "      <td>True</td>\n",
              "      <td>int64</td>\n",
              "    </tr>\n",
              "    <tr>\n",
              "      <th>ps_car_11_cat</th>\n",
              "      <td>input</td>\n",
              "      <td>nominal</td>\n",
              "      <td>True</td>\n",
              "      <td>int64</td>\n",
              "    </tr>\n",
              "    <tr>\n",
              "      <th>ps_car_11</th>\n",
              "      <td>input</td>\n",
              "      <td>ordinal</td>\n",
              "      <td>True</td>\n",
              "      <td>int64</td>\n",
              "    </tr>\n",
              "    <tr>\n",
              "      <th>ps_car_12</th>\n",
              "      <td>input</td>\n",
              "      <td>interval</td>\n",
              "      <td>True</td>\n",
              "      <td>float64</td>\n",
              "    </tr>\n",
              "    <tr>\n",
              "      <th>ps_car_13</th>\n",
              "      <td>input</td>\n",
              "      <td>interval</td>\n",
              "      <td>True</td>\n",
              "      <td>float64</td>\n",
              "    </tr>\n",
              "    <tr>\n",
              "      <th>ps_car_14</th>\n",
              "      <td>input</td>\n",
              "      <td>interval</td>\n",
              "      <td>True</td>\n",
              "      <td>float64</td>\n",
              "    </tr>\n",
              "    <tr>\n",
              "      <th>ps_car_15</th>\n",
              "      <td>input</td>\n",
              "      <td>interval</td>\n",
              "      <td>True</td>\n",
              "      <td>float64</td>\n",
              "    </tr>\n",
              "    <tr>\n",
              "      <th>ps_calc_01</th>\n",
              "      <td>input</td>\n",
              "      <td>interval</td>\n",
              "      <td>True</td>\n",
              "      <td>float64</td>\n",
              "    </tr>\n",
              "    <tr>\n",
              "      <th>ps_calc_02</th>\n",
              "      <td>input</td>\n",
              "      <td>interval</td>\n",
              "      <td>True</td>\n",
              "      <td>float64</td>\n",
              "    </tr>\n",
              "    <tr>\n",
              "      <th>ps_calc_03</th>\n",
              "      <td>input</td>\n",
              "      <td>interval</td>\n",
              "      <td>True</td>\n",
              "      <td>float64</td>\n",
              "    </tr>\n",
              "    <tr>\n",
              "      <th>ps_calc_04</th>\n",
              "      <td>input</td>\n",
              "      <td>ordinal</td>\n",
              "      <td>True</td>\n",
              "      <td>int64</td>\n",
              "    </tr>\n",
              "    <tr>\n",
              "      <th>ps_calc_05</th>\n",
              "      <td>input</td>\n",
              "      <td>ordinal</td>\n",
              "      <td>True</td>\n",
              "      <td>int64</td>\n",
              "    </tr>\n",
              "    <tr>\n",
              "      <th>ps_calc_06</th>\n",
              "      <td>input</td>\n",
              "      <td>ordinal</td>\n",
              "      <td>True</td>\n",
              "      <td>int64</td>\n",
              "    </tr>\n",
              "    <tr>\n",
              "      <th>ps_calc_07</th>\n",
              "      <td>input</td>\n",
              "      <td>ordinal</td>\n",
              "      <td>True</td>\n",
              "      <td>int64</td>\n",
              "    </tr>\n",
              "    <tr>\n",
              "      <th>ps_calc_08</th>\n",
              "      <td>input</td>\n",
              "      <td>ordinal</td>\n",
              "      <td>True</td>\n",
              "      <td>int64</td>\n",
              "    </tr>\n",
              "    <tr>\n",
              "      <th>ps_calc_09</th>\n",
              "      <td>input</td>\n",
              "      <td>ordinal</td>\n",
              "      <td>True</td>\n",
              "      <td>int64</td>\n",
              "    </tr>\n",
              "    <tr>\n",
              "      <th>ps_calc_10</th>\n",
              "      <td>input</td>\n",
              "      <td>ordinal</td>\n",
              "      <td>True</td>\n",
              "      <td>int64</td>\n",
              "    </tr>\n",
              "    <tr>\n",
              "      <th>ps_calc_11</th>\n",
              "      <td>input</td>\n",
              "      <td>ordinal</td>\n",
              "      <td>True</td>\n",
              "      <td>int64</td>\n",
              "    </tr>\n",
              "    <tr>\n",
              "      <th>ps_calc_12</th>\n",
              "      <td>input</td>\n",
              "      <td>ordinal</td>\n",
              "      <td>True</td>\n",
              "      <td>int64</td>\n",
              "    </tr>\n",
              "    <tr>\n",
              "      <th>ps_calc_13</th>\n",
              "      <td>input</td>\n",
              "      <td>ordinal</td>\n",
              "      <td>True</td>\n",
              "      <td>int64</td>\n",
              "    </tr>\n",
              "    <tr>\n",
              "      <th>ps_calc_14</th>\n",
              "      <td>input</td>\n",
              "      <td>ordinal</td>\n",
              "      <td>True</td>\n",
              "      <td>int64</td>\n",
              "    </tr>\n",
              "    <tr>\n",
              "      <th>ps_calc_15_bin</th>\n",
              "      <td>input</td>\n",
              "      <td>binary</td>\n",
              "      <td>True</td>\n",
              "      <td>int64</td>\n",
              "    </tr>\n",
              "    <tr>\n",
              "      <th>ps_calc_16_bin</th>\n",
              "      <td>input</td>\n",
              "      <td>binary</td>\n",
              "      <td>True</td>\n",
              "      <td>int64</td>\n",
              "    </tr>\n",
              "    <tr>\n",
              "      <th>ps_calc_17_bin</th>\n",
              "      <td>input</td>\n",
              "      <td>binary</td>\n",
              "      <td>True</td>\n",
              "      <td>int64</td>\n",
              "    </tr>\n",
              "    <tr>\n",
              "      <th>ps_calc_18_bin</th>\n",
              "      <td>input</td>\n",
              "      <td>binary</td>\n",
              "      <td>True</td>\n",
              "      <td>int64</td>\n",
              "    </tr>\n",
              "    <tr>\n",
              "      <th>ps_calc_19_bin</th>\n",
              "      <td>input</td>\n",
              "      <td>binary</td>\n",
              "      <td>True</td>\n",
              "      <td>int64</td>\n",
              "    </tr>\n",
              "    <tr>\n",
              "      <th>ps_calc_20_bin</th>\n",
              "      <td>input</td>\n",
              "      <td>binary</td>\n",
              "      <td>True</td>\n",
              "      <td>int64</td>\n",
              "    </tr>\n",
              "  </tbody>\n",
              "</table>\n",
              "</div>"
            ],
            "text/plain": [
              "                  role     level   keep    dtype\n",
              "varname                                         \n",
              "id                  id   nominal  False    int64\n",
              "target          target    binary   True    int64\n",
              "ps_ind_01        input   ordinal   True    int64\n",
              "ps_ind_02_cat    input   nominal   True    int64\n",
              "ps_ind_03        input   ordinal   True    int64\n",
              "ps_ind_04_cat    input   nominal   True    int64\n",
              "ps_ind_05_cat    input   nominal   True    int64\n",
              "ps_ind_06_bin    input    binary   True    int64\n",
              "ps_ind_07_bin    input    binary   True    int64\n",
              "ps_ind_08_bin    input    binary   True    int64\n",
              "ps_ind_09_bin    input    binary   True    int64\n",
              "ps_ind_10_bin    input    binary   True    int64\n",
              "ps_ind_11_bin    input    binary   True    int64\n",
              "ps_ind_12_bin    input    binary   True    int64\n",
              "ps_ind_13_bin    input    binary   True    int64\n",
              "ps_ind_14        input   ordinal   True    int64\n",
              "ps_ind_15        input   ordinal   True    int64\n",
              "ps_ind_16_bin    input    binary   True    int64\n",
              "ps_ind_17_bin    input    binary   True    int64\n",
              "ps_ind_18_bin    input    binary   True    int64\n",
              "ps_reg_01        input  interval   True  float64\n",
              "ps_reg_02        input  interval   True  float64\n",
              "ps_reg_03        input  interval   True  float64\n",
              "ps_car_01_cat    input   nominal   True    int64\n",
              "ps_car_02_cat    input   nominal   True    int64\n",
              "ps_car_03_cat    input   nominal   True    int64\n",
              "ps_car_04_cat    input   nominal   True    int64\n",
              "ps_car_05_cat    input   nominal   True    int64\n",
              "ps_car_06_cat    input   nominal   True    int64\n",
              "ps_car_07_cat    input   nominal   True    int64\n",
              "ps_car_08_cat    input   nominal   True    int64\n",
              "ps_car_09_cat    input   nominal   True    int64\n",
              "ps_car_10_cat    input   nominal   True    int64\n",
              "ps_car_11_cat    input   nominal   True    int64\n",
              "ps_car_11        input   ordinal   True    int64\n",
              "ps_car_12        input  interval   True  float64\n",
              "ps_car_13        input  interval   True  float64\n",
              "ps_car_14        input  interval   True  float64\n",
              "ps_car_15        input  interval   True  float64\n",
              "ps_calc_01       input  interval   True  float64\n",
              "ps_calc_02       input  interval   True  float64\n",
              "ps_calc_03       input  interval   True  float64\n",
              "ps_calc_04       input   ordinal   True    int64\n",
              "ps_calc_05       input   ordinal   True    int64\n",
              "ps_calc_06       input   ordinal   True    int64\n",
              "ps_calc_07       input   ordinal   True    int64\n",
              "ps_calc_08       input   ordinal   True    int64\n",
              "ps_calc_09       input   ordinal   True    int64\n",
              "ps_calc_10       input   ordinal   True    int64\n",
              "ps_calc_11       input   ordinal   True    int64\n",
              "ps_calc_12       input   ordinal   True    int64\n",
              "ps_calc_13       input   ordinal   True    int64\n",
              "ps_calc_14       input   ordinal   True    int64\n",
              "ps_calc_15_bin   input    binary   True    int64\n",
              "ps_calc_16_bin   input    binary   True    int64\n",
              "ps_calc_17_bin   input    binary   True    int64\n",
              "ps_calc_18_bin   input    binary   True    int64\n",
              "ps_calc_19_bin   input    binary   True    int64\n",
              "ps_calc_20_bin   input    binary   True    int64"
            ]
          },
          "metadata": {},
          "execution_count": 12
        }
      ]
    },
    {
      "cell_type": "markdown",
      "metadata": {
        "_cell_guid": "0049858b-f575-4f69-b6c2-562ffa10c3cf",
        "_uuid": "00d5e1e9bc7175fa91974f6fcc0bb0b9861d757c",
        "id": "KoyFISO8Zwx5"
      },
      "source": [
        "Example to extract all nominal variables that are not dropped"
      ]
    },
    {
      "cell_type": "code",
      "metadata": {
        "_cell_guid": "dc400033-7d77-4456-8913-f4de5c74a99c",
        "_uuid": "21b7012bf25c31060a7e7b9a1139246d1edfeec5",
        "collapsed": true,
        "colab": {
          "base_uri": "https://localhost:8080/"
        },
        "id": "meAWD6z4Zwx5",
        "outputId": "f6bd28cb-c9e9-413b-fbe0-4ef045b172b4"
      },
      "source": [
        "meta[(meta.level == 'nominal') & (meta.keep)].index"
      ],
      "execution_count": 13,
      "outputs": [
        {
          "output_type": "execute_result",
          "data": {
            "text/plain": [
              "Index(['ps_ind_02_cat', 'ps_ind_04_cat', 'ps_ind_05_cat', 'ps_car_01_cat',\n",
              "       'ps_car_02_cat', 'ps_car_03_cat', 'ps_car_04_cat', 'ps_car_05_cat',\n",
              "       'ps_car_06_cat', 'ps_car_07_cat', 'ps_car_08_cat', 'ps_car_09_cat',\n",
              "       'ps_car_10_cat', 'ps_car_11_cat'],\n",
              "      dtype='object', name='varname')"
            ]
          },
          "metadata": {},
          "execution_count": 13
        }
      ]
    },
    {
      "cell_type": "markdown",
      "metadata": {
        "_cell_guid": "9ab11fa8-030b-4339-82f7-2e9f02fd356d",
        "_uuid": "ce085886b6ff7b3a909515ae4c102726eca81f90",
        "id": "tTnO1CATZwx5"
      },
      "source": [
        "Below the number of variables per role and level are displayed. "
      ]
    },
    {
      "cell_type": "code",
      "metadata": {
        "_cell_guid": "ec2dd532-5d60-472a-9816-02bb02a79bdb",
        "_uuid": "4a52ea8b5a9df61368ac239e1953e3d23e6e722a",
        "collapsed": true,
        "colab": {
          "base_uri": "https://localhost:8080/",
          "height": 235
        },
        "id": "xcJ41iVAZwx6",
        "outputId": "b865d78a-62bd-4aa0-8d63-f5bcd572dfcf"
      },
      "source": [
        "pd.DataFrame({'count' : meta.groupby(['role', 'level'])['role'].size()}).reset_index()"
      ],
      "execution_count": 14,
      "outputs": [
        {
          "output_type": "execute_result",
          "data": {
            "text/html": [
              "<div>\n",
              "<style scoped>\n",
              "    .dataframe tbody tr th:only-of-type {\n",
              "        vertical-align: middle;\n",
              "    }\n",
              "\n",
              "    .dataframe tbody tr th {\n",
              "        vertical-align: top;\n",
              "    }\n",
              "\n",
              "    .dataframe thead th {\n",
              "        text-align: right;\n",
              "    }\n",
              "</style>\n",
              "<table border=\"1\" class=\"dataframe\">\n",
              "  <thead>\n",
              "    <tr style=\"text-align: right;\">\n",
              "      <th></th>\n",
              "      <th>role</th>\n",
              "      <th>level</th>\n",
              "      <th>count</th>\n",
              "    </tr>\n",
              "  </thead>\n",
              "  <tbody>\n",
              "    <tr>\n",
              "      <th>0</th>\n",
              "      <td>id</td>\n",
              "      <td>nominal</td>\n",
              "      <td>1</td>\n",
              "    </tr>\n",
              "    <tr>\n",
              "      <th>1</th>\n",
              "      <td>input</td>\n",
              "      <td>binary</td>\n",
              "      <td>17</td>\n",
              "    </tr>\n",
              "    <tr>\n",
              "      <th>2</th>\n",
              "      <td>input</td>\n",
              "      <td>interval</td>\n",
              "      <td>10</td>\n",
              "    </tr>\n",
              "    <tr>\n",
              "      <th>3</th>\n",
              "      <td>input</td>\n",
              "      <td>nominal</td>\n",
              "      <td>14</td>\n",
              "    </tr>\n",
              "    <tr>\n",
              "      <th>4</th>\n",
              "      <td>input</td>\n",
              "      <td>ordinal</td>\n",
              "      <td>16</td>\n",
              "    </tr>\n",
              "    <tr>\n",
              "      <th>5</th>\n",
              "      <td>target</td>\n",
              "      <td>binary</td>\n",
              "      <td>1</td>\n",
              "    </tr>\n",
              "  </tbody>\n",
              "</table>\n",
              "</div>"
            ],
            "text/plain": [
              "     role     level  count\n",
              "0      id   nominal      1\n",
              "1   input    binary     17\n",
              "2   input  interval     10\n",
              "3   input   nominal     14\n",
              "4   input   ordinal     16\n",
              "5  target    binary      1"
            ]
          },
          "metadata": {},
          "execution_count": 14
        }
      ]
    },
    {
      "cell_type": "markdown",
      "metadata": {
        "_cell_guid": "628d9ce5-f07f-4f4f-9dac-bfd1a49dd4e9",
        "_uuid": "d07abccb011c4de4154df274d691edbf875ec3e2",
        "id": "-a7tTU2rZwx6"
      },
      "source": [
        "<a class=\"anchor\" id=\"descriptive_stats\"></a>"
      ]
    },
    {
      "cell_type": "markdown",
      "metadata": {
        "_cell_guid": "d25e679c-dc55-46cb-a2fa-077da401f8e7",
        "_uuid": "47800f2eb3e5741591b161f6cf3f0e78c1a20ff8",
        "id": "gUt1mIqOZwx6"
      },
      "source": [
        "## Descriptive statistics"
      ]
    },
    {
      "cell_type": "markdown",
      "metadata": {
        "_cell_guid": "f0486d67-ddb2-4e64-b9c4-7ede3a8a1754",
        "_uuid": "f32de991963ae1ff014705c3b9446e76c103d717",
        "id": "9dHMZ_ZiZwx6"
      },
      "source": [
        "우리는 데이터 프레임에 description 방법을 적용할 수도 있습니다. 그러나 범주형 변수와 id 변수에 대해 평균, std, ...을 계산하는 것은 그다지 의미가 없습니다. 범주형 변수는 나중에 시각적으로 살펴보겠습니다.\n",
        "\n",
        "우리의 메타 파일 덕분에 우리는 기술 통계를 계산하고자 하는 변수를 쉽게 선택할 수 있다. 명확하게 하기 위해 데이터 유형별로 이 작업을 수행합니다."
      ]
    },
    {
      "cell_type": "markdown",
      "metadata": {
        "_cell_guid": "1cb950e7-c7db-4bbb-ba74-f94170e8446e",
        "_uuid": "44aba55b3de816f8d9696b12e5e7c4e1bde4532b",
        "id": "aL0q5ottZwx6"
      },
      "source": [
        "### Interval variables"
      ]
    },
    {
      "cell_type": "code",
      "metadata": {
        "_cell_guid": "7bad38f8-a60e-49ac-9b42-ed3f25c018cf",
        "_uuid": "d445810faefa50cc233d92e9fb5ab5d050dfd77d",
        "collapsed": true,
        "colab": {
          "base_uri": "https://localhost:8080/",
          "height": 317
        },
        "id": "DXcT3Uh8Zwx6",
        "outputId": "040d6216-34ec-4183-97c0-5f5fdaebc129"
      },
      "source": [
        "v = meta[(meta.level == 'interval') & (meta.keep)].index\n",
        "train[v].describe()"
      ],
      "execution_count": 15,
      "outputs": [
        {
          "output_type": "execute_result",
          "data": {
            "text/html": [
              "<div>\n",
              "<style scoped>\n",
              "    .dataframe tbody tr th:only-of-type {\n",
              "        vertical-align: middle;\n",
              "    }\n",
              "\n",
              "    .dataframe tbody tr th {\n",
              "        vertical-align: top;\n",
              "    }\n",
              "\n",
              "    .dataframe thead th {\n",
              "        text-align: right;\n",
              "    }\n",
              "</style>\n",
              "<table border=\"1\" class=\"dataframe\">\n",
              "  <thead>\n",
              "    <tr style=\"text-align: right;\">\n",
              "      <th></th>\n",
              "      <th>ps_reg_01</th>\n",
              "      <th>ps_reg_02</th>\n",
              "      <th>ps_reg_03</th>\n",
              "      <th>ps_car_12</th>\n",
              "      <th>ps_car_13</th>\n",
              "      <th>ps_car_14</th>\n",
              "      <th>ps_car_15</th>\n",
              "      <th>ps_calc_01</th>\n",
              "      <th>ps_calc_02</th>\n",
              "      <th>ps_calc_03</th>\n",
              "    </tr>\n",
              "  </thead>\n",
              "  <tbody>\n",
              "    <tr>\n",
              "      <th>count</th>\n",
              "      <td>595212.000000</td>\n",
              "      <td>595212.000000</td>\n",
              "      <td>595212.000000</td>\n",
              "      <td>595212.000000</td>\n",
              "      <td>595212.000000</td>\n",
              "      <td>595212.000000</td>\n",
              "      <td>595212.000000</td>\n",
              "      <td>595212.000000</td>\n",
              "      <td>595212.000000</td>\n",
              "      <td>595212.000000</td>\n",
              "    </tr>\n",
              "    <tr>\n",
              "      <th>mean</th>\n",
              "      <td>0.610991</td>\n",
              "      <td>0.439184</td>\n",
              "      <td>0.551102</td>\n",
              "      <td>0.379945</td>\n",
              "      <td>0.813265</td>\n",
              "      <td>0.276256</td>\n",
              "      <td>3.065899</td>\n",
              "      <td>0.449756</td>\n",
              "      <td>0.449589</td>\n",
              "      <td>0.449849</td>\n",
              "    </tr>\n",
              "    <tr>\n",
              "      <th>std</th>\n",
              "      <td>0.287643</td>\n",
              "      <td>0.404264</td>\n",
              "      <td>0.793506</td>\n",
              "      <td>0.058327</td>\n",
              "      <td>0.224588</td>\n",
              "      <td>0.357154</td>\n",
              "      <td>0.731366</td>\n",
              "      <td>0.287198</td>\n",
              "      <td>0.286893</td>\n",
              "      <td>0.287153</td>\n",
              "    </tr>\n",
              "    <tr>\n",
              "      <th>min</th>\n",
              "      <td>0.000000</td>\n",
              "      <td>0.000000</td>\n",
              "      <td>-1.000000</td>\n",
              "      <td>-1.000000</td>\n",
              "      <td>0.250619</td>\n",
              "      <td>-1.000000</td>\n",
              "      <td>0.000000</td>\n",
              "      <td>0.000000</td>\n",
              "      <td>0.000000</td>\n",
              "      <td>0.000000</td>\n",
              "    </tr>\n",
              "    <tr>\n",
              "      <th>25%</th>\n",
              "      <td>0.400000</td>\n",
              "      <td>0.200000</td>\n",
              "      <td>0.525000</td>\n",
              "      <td>0.316228</td>\n",
              "      <td>0.670867</td>\n",
              "      <td>0.333167</td>\n",
              "      <td>2.828427</td>\n",
              "      <td>0.200000</td>\n",
              "      <td>0.200000</td>\n",
              "      <td>0.200000</td>\n",
              "    </tr>\n",
              "    <tr>\n",
              "      <th>50%</th>\n",
              "      <td>0.700000</td>\n",
              "      <td>0.300000</td>\n",
              "      <td>0.720677</td>\n",
              "      <td>0.374166</td>\n",
              "      <td>0.765811</td>\n",
              "      <td>0.368782</td>\n",
              "      <td>3.316625</td>\n",
              "      <td>0.500000</td>\n",
              "      <td>0.400000</td>\n",
              "      <td>0.500000</td>\n",
              "    </tr>\n",
              "    <tr>\n",
              "      <th>75%</th>\n",
              "      <td>0.900000</td>\n",
              "      <td>0.600000</td>\n",
              "      <td>1.000000</td>\n",
              "      <td>0.400000</td>\n",
              "      <td>0.906190</td>\n",
              "      <td>0.396485</td>\n",
              "      <td>3.605551</td>\n",
              "      <td>0.700000</td>\n",
              "      <td>0.700000</td>\n",
              "      <td>0.700000</td>\n",
              "    </tr>\n",
              "    <tr>\n",
              "      <th>max</th>\n",
              "      <td>0.900000</td>\n",
              "      <td>1.800000</td>\n",
              "      <td>4.037945</td>\n",
              "      <td>1.264911</td>\n",
              "      <td>3.720626</td>\n",
              "      <td>0.636396</td>\n",
              "      <td>3.741657</td>\n",
              "      <td>0.900000</td>\n",
              "      <td>0.900000</td>\n",
              "      <td>0.900000</td>\n",
              "    </tr>\n",
              "  </tbody>\n",
              "</table>\n",
              "</div>"
            ],
            "text/plain": [
              "           ps_reg_01      ps_reg_02      ps_reg_03      ps_car_12  \\\n",
              "count  595212.000000  595212.000000  595212.000000  595212.000000   \n",
              "mean        0.610991       0.439184       0.551102       0.379945   \n",
              "std         0.287643       0.404264       0.793506       0.058327   \n",
              "min         0.000000       0.000000      -1.000000      -1.000000   \n",
              "25%         0.400000       0.200000       0.525000       0.316228   \n",
              "50%         0.700000       0.300000       0.720677       0.374166   \n",
              "75%         0.900000       0.600000       1.000000       0.400000   \n",
              "max         0.900000       1.800000       4.037945       1.264911   \n",
              "\n",
              "           ps_car_13      ps_car_14      ps_car_15     ps_calc_01  \\\n",
              "count  595212.000000  595212.000000  595212.000000  595212.000000   \n",
              "mean        0.813265       0.276256       3.065899       0.449756   \n",
              "std         0.224588       0.357154       0.731366       0.287198   \n",
              "min         0.250619      -1.000000       0.000000       0.000000   \n",
              "25%         0.670867       0.333167       2.828427       0.200000   \n",
              "50%         0.765811       0.368782       3.316625       0.500000   \n",
              "75%         0.906190       0.396485       3.605551       0.700000   \n",
              "max         3.720626       0.636396       3.741657       0.900000   \n",
              "\n",
              "          ps_calc_02     ps_calc_03  \n",
              "count  595212.000000  595212.000000  \n",
              "mean        0.449589       0.449849  \n",
              "std         0.286893       0.287153  \n",
              "min         0.000000       0.000000  \n",
              "25%         0.200000       0.200000  \n",
              "50%         0.400000       0.500000  \n",
              "75%         0.700000       0.700000  \n",
              "max         0.900000       0.900000  "
            ]
          },
          "metadata": {},
          "execution_count": 15
        }
      ]
    },
    {
      "cell_type": "markdown",
      "metadata": {
        "_cell_guid": "57db3176-f8dc-4aa8-86c8-e198a2e46bc5",
        "_uuid": "efd6d92517e7dde451d66a6509ec9b8300b0aacc",
        "id": "oKUtBWNKZwx7"
      },
      "source": [
        "#### reg variables\n",
        "- ps_reg_03에만 결측값이 있습니다.\n",
        "- 범위(최소 ~ 최대)는 변수마다 다릅니다. 스케일링(예: StandardScaler)을 적용할 수 있지만 사용하려는 분류기에 따라 다릅니다.\n",
        "\n",
        "#### car variables\n",
        "- ps_car_12 및 ps_car_15에 결측값이 있습니다.\n",
        "- 역시 범위가 다르므로 스케일링을 적용할 수 있습니다.\n",
        "\n",
        "#### calc variables\n",
        "- 결측값 없음\n",
        "- 최대값이 0.9이므로 일종의 비율인 것 같습니다.\n",
        "- 세 *_calc* 모두 분포가 매우 유사합니다.\n",
        "\n",
        "\n",
        "**전반적으로** 구간 변수의 범위가 다소 작다는 것을 알 수 있습니다. 데이터를 익명화하기 위해 변환(예: 로그)이 이미 적용되었을 수 있습니다.\n"
      ]
    },
    {
      "cell_type": "markdown",
      "metadata": {
        "_cell_guid": "6790f9d3-2ad0-4d6c-836d-e373460cf6a4",
        "_uuid": "fdc9923f3a5e7b8a39c5944fccad494572795da6",
        "id": "nQU7_xFiZwx7"
      },
      "source": [
        "### Ordinal variables"
      ]
    },
    {
      "cell_type": "code",
      "metadata": {
        "_cell_guid": "761bdb24-c3dc-44f5-b59b-44604841b616",
        "_uuid": "1100d8fed9046398cba3faa68766727963012f3f",
        "collapsed": true,
        "colab": {
          "base_uri": "https://localhost:8080/",
          "height": 317
        },
        "id": "yzvSxxNTZwx7",
        "outputId": "9d243104-13d2-44e5-ddc8-509c6451d73f"
      },
      "source": [
        "v = meta[(meta.level == 'ordinal') & (meta.keep)].index\n",
        "train[v].describe()"
      ],
      "execution_count": 16,
      "outputs": [
        {
          "output_type": "execute_result",
          "data": {
            "text/html": [
              "<div>\n",
              "<style scoped>\n",
              "    .dataframe tbody tr th:only-of-type {\n",
              "        vertical-align: middle;\n",
              "    }\n",
              "\n",
              "    .dataframe tbody tr th {\n",
              "        vertical-align: top;\n",
              "    }\n",
              "\n",
              "    .dataframe thead th {\n",
              "        text-align: right;\n",
              "    }\n",
              "</style>\n",
              "<table border=\"1\" class=\"dataframe\">\n",
              "  <thead>\n",
              "    <tr style=\"text-align: right;\">\n",
              "      <th></th>\n",
              "      <th>ps_ind_01</th>\n",
              "      <th>ps_ind_03</th>\n",
              "      <th>ps_ind_14</th>\n",
              "      <th>ps_ind_15</th>\n",
              "      <th>ps_car_11</th>\n",
              "      <th>ps_calc_04</th>\n",
              "      <th>ps_calc_05</th>\n",
              "      <th>ps_calc_06</th>\n",
              "      <th>ps_calc_07</th>\n",
              "      <th>ps_calc_08</th>\n",
              "      <th>ps_calc_09</th>\n",
              "      <th>ps_calc_10</th>\n",
              "      <th>ps_calc_11</th>\n",
              "      <th>ps_calc_12</th>\n",
              "      <th>ps_calc_13</th>\n",
              "      <th>ps_calc_14</th>\n",
              "    </tr>\n",
              "  </thead>\n",
              "  <tbody>\n",
              "    <tr>\n",
              "      <th>count</th>\n",
              "      <td>595212.000000</td>\n",
              "      <td>595212.000000</td>\n",
              "      <td>595212.000000</td>\n",
              "      <td>595212.000000</td>\n",
              "      <td>595212.000000</td>\n",
              "      <td>595212.000000</td>\n",
              "      <td>595212.000000</td>\n",
              "      <td>595212.000000</td>\n",
              "      <td>595212.000000</td>\n",
              "      <td>595212.000000</td>\n",
              "      <td>595212.000000</td>\n",
              "      <td>595212.000000</td>\n",
              "      <td>595212.000000</td>\n",
              "      <td>595212.000000</td>\n",
              "      <td>595212.000000</td>\n",
              "      <td>595212.000000</td>\n",
              "    </tr>\n",
              "    <tr>\n",
              "      <th>mean</th>\n",
              "      <td>1.900378</td>\n",
              "      <td>4.423318</td>\n",
              "      <td>0.012451</td>\n",
              "      <td>7.299922</td>\n",
              "      <td>2.346072</td>\n",
              "      <td>2.372081</td>\n",
              "      <td>1.885886</td>\n",
              "      <td>7.689445</td>\n",
              "      <td>3.005823</td>\n",
              "      <td>9.225904</td>\n",
              "      <td>2.339034</td>\n",
              "      <td>8.433590</td>\n",
              "      <td>5.441382</td>\n",
              "      <td>1.441918</td>\n",
              "      <td>2.872288</td>\n",
              "      <td>7.539026</td>\n",
              "    </tr>\n",
              "    <tr>\n",
              "      <th>std</th>\n",
              "      <td>1.983789</td>\n",
              "      <td>2.699902</td>\n",
              "      <td>0.127545</td>\n",
              "      <td>3.546042</td>\n",
              "      <td>0.832548</td>\n",
              "      <td>1.117219</td>\n",
              "      <td>1.134927</td>\n",
              "      <td>1.334312</td>\n",
              "      <td>1.414564</td>\n",
              "      <td>1.459672</td>\n",
              "      <td>1.246949</td>\n",
              "      <td>2.904597</td>\n",
              "      <td>2.332871</td>\n",
              "      <td>1.202963</td>\n",
              "      <td>1.694887</td>\n",
              "      <td>2.746652</td>\n",
              "    </tr>\n",
              "    <tr>\n",
              "      <th>min</th>\n",
              "      <td>0.000000</td>\n",
              "      <td>0.000000</td>\n",
              "      <td>0.000000</td>\n",
              "      <td>0.000000</td>\n",
              "      <td>-1.000000</td>\n",
              "      <td>0.000000</td>\n",
              "      <td>0.000000</td>\n",
              "      <td>0.000000</td>\n",
              "      <td>0.000000</td>\n",
              "      <td>2.000000</td>\n",
              "      <td>0.000000</td>\n",
              "      <td>0.000000</td>\n",
              "      <td>0.000000</td>\n",
              "      <td>0.000000</td>\n",
              "      <td>0.000000</td>\n",
              "      <td>0.000000</td>\n",
              "    </tr>\n",
              "    <tr>\n",
              "      <th>25%</th>\n",
              "      <td>0.000000</td>\n",
              "      <td>2.000000</td>\n",
              "      <td>0.000000</td>\n",
              "      <td>5.000000</td>\n",
              "      <td>2.000000</td>\n",
              "      <td>2.000000</td>\n",
              "      <td>1.000000</td>\n",
              "      <td>7.000000</td>\n",
              "      <td>2.000000</td>\n",
              "      <td>8.000000</td>\n",
              "      <td>1.000000</td>\n",
              "      <td>6.000000</td>\n",
              "      <td>4.000000</td>\n",
              "      <td>1.000000</td>\n",
              "      <td>2.000000</td>\n",
              "      <td>6.000000</td>\n",
              "    </tr>\n",
              "    <tr>\n",
              "      <th>50%</th>\n",
              "      <td>1.000000</td>\n",
              "      <td>4.000000</td>\n",
              "      <td>0.000000</td>\n",
              "      <td>7.000000</td>\n",
              "      <td>3.000000</td>\n",
              "      <td>2.000000</td>\n",
              "      <td>2.000000</td>\n",
              "      <td>8.000000</td>\n",
              "      <td>3.000000</td>\n",
              "      <td>9.000000</td>\n",
              "      <td>2.000000</td>\n",
              "      <td>8.000000</td>\n",
              "      <td>5.000000</td>\n",
              "      <td>1.000000</td>\n",
              "      <td>3.000000</td>\n",
              "      <td>7.000000</td>\n",
              "    </tr>\n",
              "    <tr>\n",
              "      <th>75%</th>\n",
              "      <td>3.000000</td>\n",
              "      <td>6.000000</td>\n",
              "      <td>0.000000</td>\n",
              "      <td>10.000000</td>\n",
              "      <td>3.000000</td>\n",
              "      <td>3.000000</td>\n",
              "      <td>3.000000</td>\n",
              "      <td>9.000000</td>\n",
              "      <td>4.000000</td>\n",
              "      <td>10.000000</td>\n",
              "      <td>3.000000</td>\n",
              "      <td>10.000000</td>\n",
              "      <td>7.000000</td>\n",
              "      <td>2.000000</td>\n",
              "      <td>4.000000</td>\n",
              "      <td>9.000000</td>\n",
              "    </tr>\n",
              "    <tr>\n",
              "      <th>max</th>\n",
              "      <td>7.000000</td>\n",
              "      <td>11.000000</td>\n",
              "      <td>4.000000</td>\n",
              "      <td>13.000000</td>\n",
              "      <td>3.000000</td>\n",
              "      <td>5.000000</td>\n",
              "      <td>6.000000</td>\n",
              "      <td>10.000000</td>\n",
              "      <td>9.000000</td>\n",
              "      <td>12.000000</td>\n",
              "      <td>7.000000</td>\n",
              "      <td>25.000000</td>\n",
              "      <td>19.000000</td>\n",
              "      <td>10.000000</td>\n",
              "      <td>13.000000</td>\n",
              "      <td>23.000000</td>\n",
              "    </tr>\n",
              "  </tbody>\n",
              "</table>\n",
              "</div>"
            ],
            "text/plain": [
              "           ps_ind_01      ps_ind_03      ps_ind_14      ps_ind_15  \\\n",
              "count  595212.000000  595212.000000  595212.000000  595212.000000   \n",
              "mean        1.900378       4.423318       0.012451       7.299922   \n",
              "std         1.983789       2.699902       0.127545       3.546042   \n",
              "min         0.000000       0.000000       0.000000       0.000000   \n",
              "25%         0.000000       2.000000       0.000000       5.000000   \n",
              "50%         1.000000       4.000000       0.000000       7.000000   \n",
              "75%         3.000000       6.000000       0.000000      10.000000   \n",
              "max         7.000000      11.000000       4.000000      13.000000   \n",
              "\n",
              "           ps_car_11     ps_calc_04     ps_calc_05     ps_calc_06  \\\n",
              "count  595212.000000  595212.000000  595212.000000  595212.000000   \n",
              "mean        2.346072       2.372081       1.885886       7.689445   \n",
              "std         0.832548       1.117219       1.134927       1.334312   \n",
              "min        -1.000000       0.000000       0.000000       0.000000   \n",
              "25%         2.000000       2.000000       1.000000       7.000000   \n",
              "50%         3.000000       2.000000       2.000000       8.000000   \n",
              "75%         3.000000       3.000000       3.000000       9.000000   \n",
              "max         3.000000       5.000000       6.000000      10.000000   \n",
              "\n",
              "          ps_calc_07     ps_calc_08     ps_calc_09     ps_calc_10  \\\n",
              "count  595212.000000  595212.000000  595212.000000  595212.000000   \n",
              "mean        3.005823       9.225904       2.339034       8.433590   \n",
              "std         1.414564       1.459672       1.246949       2.904597   \n",
              "min         0.000000       2.000000       0.000000       0.000000   \n",
              "25%         2.000000       8.000000       1.000000       6.000000   \n",
              "50%         3.000000       9.000000       2.000000       8.000000   \n",
              "75%         4.000000      10.000000       3.000000      10.000000   \n",
              "max         9.000000      12.000000       7.000000      25.000000   \n",
              "\n",
              "          ps_calc_11     ps_calc_12     ps_calc_13     ps_calc_14  \n",
              "count  595212.000000  595212.000000  595212.000000  595212.000000  \n",
              "mean        5.441382       1.441918       2.872288       7.539026  \n",
              "std         2.332871       1.202963       1.694887       2.746652  \n",
              "min         0.000000       0.000000       0.000000       0.000000  \n",
              "25%         4.000000       1.000000       2.000000       6.000000  \n",
              "50%         5.000000       1.000000       3.000000       7.000000  \n",
              "75%         7.000000       2.000000       4.000000       9.000000  \n",
              "max        19.000000      10.000000      13.000000      23.000000  "
            ]
          },
          "metadata": {},
          "execution_count": 16
        }
      ]
    },
    {
      "cell_type": "markdown",
      "metadata": {
        "_cell_guid": "37b6f815-598a-4fea-b776-88b0862305ca",
        "_uuid": "caaa8c80af099a150e10dc03742d3ef619cd3973",
        "id": "fHuauvcgZwx7"
      },
      "source": [
        "- 하나의 결측치가 있습니다.: ps_car_11\n",
        "- 스케일링을 적용하여 다양한 범위를 처리할 수 있습니다."
      ]
    },
    {
      "cell_type": "markdown",
      "metadata": {
        "_cell_guid": "2ad928ad-9d2f-49cc-b84f-1950c4403346",
        "_uuid": "11e7bad44a795c3010f9a40bb8460ca0476fcc31",
        "id": "uChxn1WJZwx8"
      },
      "source": [
        "### Binary variables"
      ]
    },
    {
      "cell_type": "code",
      "metadata": {
        "_cell_guid": "9c3b1993-eb33-4eef-859f-97ef4d0b5811",
        "_uuid": "6be807e266e11f6ca095b19cd4624af7a93f00c2",
        "collapsed": true,
        "colab": {
          "base_uri": "https://localhost:8080/",
          "height": 317
        },
        "id": "a5qGzY8GZwx8",
        "outputId": "5981ea9d-3ee3-4193-bb49-9a3abc4d10a5"
      },
      "source": [
        "v = meta[(meta.level == 'binary') & (meta.keep)].index\n",
        "train[v].describe()"
      ],
      "execution_count": 17,
      "outputs": [
        {
          "output_type": "execute_result",
          "data": {
            "text/html": [
              "<div>\n",
              "<style scoped>\n",
              "    .dataframe tbody tr th:only-of-type {\n",
              "        vertical-align: middle;\n",
              "    }\n",
              "\n",
              "    .dataframe tbody tr th {\n",
              "        vertical-align: top;\n",
              "    }\n",
              "\n",
              "    .dataframe thead th {\n",
              "        text-align: right;\n",
              "    }\n",
              "</style>\n",
              "<table border=\"1\" class=\"dataframe\">\n",
              "  <thead>\n",
              "    <tr style=\"text-align: right;\">\n",
              "      <th></th>\n",
              "      <th>target</th>\n",
              "      <th>ps_ind_06_bin</th>\n",
              "      <th>ps_ind_07_bin</th>\n",
              "      <th>ps_ind_08_bin</th>\n",
              "      <th>ps_ind_09_bin</th>\n",
              "      <th>ps_ind_10_bin</th>\n",
              "      <th>ps_ind_11_bin</th>\n",
              "      <th>ps_ind_12_bin</th>\n",
              "      <th>ps_ind_13_bin</th>\n",
              "      <th>ps_ind_16_bin</th>\n",
              "      <th>ps_ind_17_bin</th>\n",
              "      <th>ps_ind_18_bin</th>\n",
              "      <th>ps_calc_15_bin</th>\n",
              "      <th>ps_calc_16_bin</th>\n",
              "      <th>ps_calc_17_bin</th>\n",
              "      <th>ps_calc_18_bin</th>\n",
              "      <th>ps_calc_19_bin</th>\n",
              "      <th>ps_calc_20_bin</th>\n",
              "    </tr>\n",
              "  </thead>\n",
              "  <tbody>\n",
              "    <tr>\n",
              "      <th>count</th>\n",
              "      <td>595212.000000</td>\n",
              "      <td>595212.000000</td>\n",
              "      <td>595212.000000</td>\n",
              "      <td>595212.000000</td>\n",
              "      <td>595212.000000</td>\n",
              "      <td>595212.000000</td>\n",
              "      <td>595212.000000</td>\n",
              "      <td>595212.000000</td>\n",
              "      <td>595212.000000</td>\n",
              "      <td>595212.000000</td>\n",
              "      <td>595212.000000</td>\n",
              "      <td>595212.000000</td>\n",
              "      <td>595212.000000</td>\n",
              "      <td>595212.000000</td>\n",
              "      <td>595212.000000</td>\n",
              "      <td>595212.000000</td>\n",
              "      <td>595212.000000</td>\n",
              "      <td>595212.000000</td>\n",
              "    </tr>\n",
              "    <tr>\n",
              "      <th>mean</th>\n",
              "      <td>0.036448</td>\n",
              "      <td>0.393742</td>\n",
              "      <td>0.257033</td>\n",
              "      <td>0.163921</td>\n",
              "      <td>0.185304</td>\n",
              "      <td>0.000373</td>\n",
              "      <td>0.001692</td>\n",
              "      <td>0.009439</td>\n",
              "      <td>0.000948</td>\n",
              "      <td>0.660823</td>\n",
              "      <td>0.121081</td>\n",
              "      <td>0.153446</td>\n",
              "      <td>0.122427</td>\n",
              "      <td>0.627840</td>\n",
              "      <td>0.554182</td>\n",
              "      <td>0.287182</td>\n",
              "      <td>0.349024</td>\n",
              "      <td>0.153318</td>\n",
              "    </tr>\n",
              "    <tr>\n",
              "      <th>std</th>\n",
              "      <td>0.187401</td>\n",
              "      <td>0.488579</td>\n",
              "      <td>0.436998</td>\n",
              "      <td>0.370205</td>\n",
              "      <td>0.388544</td>\n",
              "      <td>0.019309</td>\n",
              "      <td>0.041097</td>\n",
              "      <td>0.096693</td>\n",
              "      <td>0.030768</td>\n",
              "      <td>0.473430</td>\n",
              "      <td>0.326222</td>\n",
              "      <td>0.360417</td>\n",
              "      <td>0.327779</td>\n",
              "      <td>0.483381</td>\n",
              "      <td>0.497056</td>\n",
              "      <td>0.452447</td>\n",
              "      <td>0.476662</td>\n",
              "      <td>0.360295</td>\n",
              "    </tr>\n",
              "    <tr>\n",
              "      <th>min</th>\n",
              "      <td>0.000000</td>\n",
              "      <td>0.000000</td>\n",
              "      <td>0.000000</td>\n",
              "      <td>0.000000</td>\n",
              "      <td>0.000000</td>\n",
              "      <td>0.000000</td>\n",
              "      <td>0.000000</td>\n",
              "      <td>0.000000</td>\n",
              "      <td>0.000000</td>\n",
              "      <td>0.000000</td>\n",
              "      <td>0.000000</td>\n",
              "      <td>0.000000</td>\n",
              "      <td>0.000000</td>\n",
              "      <td>0.000000</td>\n",
              "      <td>0.000000</td>\n",
              "      <td>0.000000</td>\n",
              "      <td>0.000000</td>\n",
              "      <td>0.000000</td>\n",
              "    </tr>\n",
              "    <tr>\n",
              "      <th>25%</th>\n",
              "      <td>0.000000</td>\n",
              "      <td>0.000000</td>\n",
              "      <td>0.000000</td>\n",
              "      <td>0.000000</td>\n",
              "      <td>0.000000</td>\n",
              "      <td>0.000000</td>\n",
              "      <td>0.000000</td>\n",
              "      <td>0.000000</td>\n",
              "      <td>0.000000</td>\n",
              "      <td>0.000000</td>\n",
              "      <td>0.000000</td>\n",
              "      <td>0.000000</td>\n",
              "      <td>0.000000</td>\n",
              "      <td>0.000000</td>\n",
              "      <td>0.000000</td>\n",
              "      <td>0.000000</td>\n",
              "      <td>0.000000</td>\n",
              "      <td>0.000000</td>\n",
              "    </tr>\n",
              "    <tr>\n",
              "      <th>50%</th>\n",
              "      <td>0.000000</td>\n",
              "      <td>0.000000</td>\n",
              "      <td>0.000000</td>\n",
              "      <td>0.000000</td>\n",
              "      <td>0.000000</td>\n",
              "      <td>0.000000</td>\n",
              "      <td>0.000000</td>\n",
              "      <td>0.000000</td>\n",
              "      <td>0.000000</td>\n",
              "      <td>1.000000</td>\n",
              "      <td>0.000000</td>\n",
              "      <td>0.000000</td>\n",
              "      <td>0.000000</td>\n",
              "      <td>1.000000</td>\n",
              "      <td>1.000000</td>\n",
              "      <td>0.000000</td>\n",
              "      <td>0.000000</td>\n",
              "      <td>0.000000</td>\n",
              "    </tr>\n",
              "    <tr>\n",
              "      <th>75%</th>\n",
              "      <td>0.000000</td>\n",
              "      <td>1.000000</td>\n",
              "      <td>1.000000</td>\n",
              "      <td>0.000000</td>\n",
              "      <td>0.000000</td>\n",
              "      <td>0.000000</td>\n",
              "      <td>0.000000</td>\n",
              "      <td>0.000000</td>\n",
              "      <td>0.000000</td>\n",
              "      <td>1.000000</td>\n",
              "      <td>0.000000</td>\n",
              "      <td>0.000000</td>\n",
              "      <td>0.000000</td>\n",
              "      <td>1.000000</td>\n",
              "      <td>1.000000</td>\n",
              "      <td>1.000000</td>\n",
              "      <td>1.000000</td>\n",
              "      <td>0.000000</td>\n",
              "    </tr>\n",
              "    <tr>\n",
              "      <th>max</th>\n",
              "      <td>1.000000</td>\n",
              "      <td>1.000000</td>\n",
              "      <td>1.000000</td>\n",
              "      <td>1.000000</td>\n",
              "      <td>1.000000</td>\n",
              "      <td>1.000000</td>\n",
              "      <td>1.000000</td>\n",
              "      <td>1.000000</td>\n",
              "      <td>1.000000</td>\n",
              "      <td>1.000000</td>\n",
              "      <td>1.000000</td>\n",
              "      <td>1.000000</td>\n",
              "      <td>1.000000</td>\n",
              "      <td>1.000000</td>\n",
              "      <td>1.000000</td>\n",
              "      <td>1.000000</td>\n",
              "      <td>1.000000</td>\n",
              "      <td>1.000000</td>\n",
              "    </tr>\n",
              "  </tbody>\n",
              "</table>\n",
              "</div>"
            ],
            "text/plain": [
              "              target  ps_ind_06_bin  ps_ind_07_bin  ps_ind_08_bin  \\\n",
              "count  595212.000000  595212.000000  595212.000000  595212.000000   \n",
              "mean        0.036448       0.393742       0.257033       0.163921   \n",
              "std         0.187401       0.488579       0.436998       0.370205   \n",
              "min         0.000000       0.000000       0.000000       0.000000   \n",
              "25%         0.000000       0.000000       0.000000       0.000000   \n",
              "50%         0.000000       0.000000       0.000000       0.000000   \n",
              "75%         0.000000       1.000000       1.000000       0.000000   \n",
              "max         1.000000       1.000000       1.000000       1.000000   \n",
              "\n",
              "       ps_ind_09_bin  ps_ind_10_bin  ps_ind_11_bin  ps_ind_12_bin  \\\n",
              "count  595212.000000  595212.000000  595212.000000  595212.000000   \n",
              "mean        0.185304       0.000373       0.001692       0.009439   \n",
              "std         0.388544       0.019309       0.041097       0.096693   \n",
              "min         0.000000       0.000000       0.000000       0.000000   \n",
              "25%         0.000000       0.000000       0.000000       0.000000   \n",
              "50%         0.000000       0.000000       0.000000       0.000000   \n",
              "75%         0.000000       0.000000       0.000000       0.000000   \n",
              "max         1.000000       1.000000       1.000000       1.000000   \n",
              "\n",
              "       ps_ind_13_bin  ps_ind_16_bin  ps_ind_17_bin  ps_ind_18_bin  \\\n",
              "count  595212.000000  595212.000000  595212.000000  595212.000000   \n",
              "mean        0.000948       0.660823       0.121081       0.153446   \n",
              "std         0.030768       0.473430       0.326222       0.360417   \n",
              "min         0.000000       0.000000       0.000000       0.000000   \n",
              "25%         0.000000       0.000000       0.000000       0.000000   \n",
              "50%         0.000000       1.000000       0.000000       0.000000   \n",
              "75%         0.000000       1.000000       0.000000       0.000000   \n",
              "max         1.000000       1.000000       1.000000       1.000000   \n",
              "\n",
              "       ps_calc_15_bin  ps_calc_16_bin  ps_calc_17_bin  ps_calc_18_bin  \\\n",
              "count   595212.000000   595212.000000   595212.000000   595212.000000   \n",
              "mean         0.122427        0.627840        0.554182        0.287182   \n",
              "std          0.327779        0.483381        0.497056        0.452447   \n",
              "min          0.000000        0.000000        0.000000        0.000000   \n",
              "25%          0.000000        0.000000        0.000000        0.000000   \n",
              "50%          0.000000        1.000000        1.000000        0.000000   \n",
              "75%          0.000000        1.000000        1.000000        1.000000   \n",
              "max          1.000000        1.000000        1.000000        1.000000   \n",
              "\n",
              "       ps_calc_19_bin  ps_calc_20_bin  \n",
              "count   595212.000000   595212.000000  \n",
              "mean         0.349024        0.153318  \n",
              "std          0.476662        0.360295  \n",
              "min          0.000000        0.000000  \n",
              "25%          0.000000        0.000000  \n",
              "50%          0.000000        0.000000  \n",
              "75%          1.000000        0.000000  \n",
              "max          1.000000        1.000000  "
            ]
          },
          "metadata": {},
          "execution_count": 17
        }
      ]
    },
    {
      "cell_type": "markdown",
      "metadata": {
        "_cell_guid": "6c03a6ec-3fd2-47e9-80b1-6407500c1285",
        "_uuid": "77b978ce89fc36e107513b534fec7a9a0f8cb543",
        "id": "7m00bZStZwx8"
      },
      "source": [
        "- 열차 데이터의 우선 순위는 3.645%로, **강력하게 불균형**입니다. \n",
        "- 평균으로부터 대부분의 변수에 대한 값이 0이라는 결론을 내릴 수 있습니다."
      ]
    },
    {
      "cell_type": "markdown",
      "metadata": {
        "_cell_guid": "f226ac92-3d30-41ce-ba53-2a2813159843",
        "_uuid": "02cad71ec7e2a7370ec81655f6320bb88ce43a1e",
        "id": "ZIBGKo78Zwx8"
      },
      "source": [
        "<a class=\"anchor\" id=\"imbalanced_data\"></a>"
      ]
    },
    {
      "cell_type": "markdown",
      "metadata": {
        "_cell_guid": "471736eb-598a-4b2a-a8c2-c091ecd5f945",
        "_uuid": "5b4380025b455201e73703d36ae805b06d05c02d",
        "id": "7uAKVERrZwx8"
      },
      "source": [
        "## Handling imbalanced classes\n",
        "위에서 언급했듯이 target=1인 레코드의 비율은 target=0보다 훨씬 작습니다. 이는 정확도가 높지만 실제로는 부가가치가 있는 모델로 이어질 수 있습니다. \n",
        "이 문제를 해결할 수 있는 두 가지 전략은 다음과 같습니다.\n",
        "* 대상=1로 레코드를 오버샘플링합니다. \n",
        "* target=0으로 레코드를 언더샘플링합니다.\n",
        "\n",
        "물론 더 많은 전략이 있으며, MachineLearningMastery.com은 [nice overview](https://machinelearningmastery.com/tactics-to-combat-imbalanced-classes-in-your-machine-learning-dataset/)를 제공한다.\n",
        "훈련 세트가 꽤 크기 때문에 **undersampling**을 할 수 있습니다."
      ]
    },
    {
      "cell_type": "code",
      "metadata": {
        "_cell_guid": "e933f241-74eb-46ed-a7a8-02215f170db5",
        "_uuid": "4078855ef511dbbb2306f861e4b82ad45620e36f",
        "collapsed": true,
        "colab": {
          "base_uri": "https://localhost:8080/"
        },
        "id": "Grud59xPZwx8",
        "outputId": "63abd396-5db1-41e3-fd32-12c319cebbbc"
      },
      "source": [
        "desired_apriori=0.10\n",
        "\n",
        "# Get the indices per target value\n",
        "idx_0 = train[train.target == 0].index\n",
        "idx_1 = train[train.target == 1].index\n",
        "\n",
        "# Get ordinal number of records per target value\n",
        "nb_0 = len(train.loc[idx_0])\n",
        "nb_1 = len(train.loc[idx_1])\n",
        "\n",
        "# Calculate the undersampling rate and resulting number of records with target=0\n",
        "undersampling_rate = ((1-desired_apriori)*nb_1)/(nb_0*desired_apriori)\n",
        "undersampled_nb_0 = int(undersampling_rate*nb_0)\n",
        "print('Rate to undersample records with target=0: {}'.format(undersampling_rate))\n",
        "print('Number of records with target=0 after undersampling: {}'.format(undersampled_nb_0))\n",
        "\n",
        "# Randomly select records with target=0 to get at the desired a priori\n",
        "undersampled_idx = shuffle(idx_0, random_state=37, n_samples=undersampled_nb_0)\n",
        "\n",
        "# Construct list with remaining indices\n",
        "idx_list = list(undersampled_idx) + list(idx_1)\n",
        "\n",
        "# Return undersample data frame\n",
        "train = train.loc[idx_list].reset_index(drop=True)"
      ],
      "execution_count": 18,
      "outputs": [
        {
          "output_type": "stream",
          "name": "stdout",
          "text": [
            "Rate to undersample records with target=0: 0.34043569687437886\n",
            "Number of records with target=0 after undersampling: 195246\n"
          ]
        }
      ]
    },
    {
      "cell_type": "markdown",
      "metadata": {
        "_cell_guid": "209074dd-ee1f-465c-8cd7-d0b7b692f54f",
        "_uuid": "f48e8ee8ed611da6c42de9c595fdaf34ecf5f23b",
        "id": "6Rul9PDeZwx9"
      },
      "source": [
        "<a class=\"anchor\" id=\"data_quality\"></a>"
      ]
    },
    {
      "cell_type": "markdown",
      "metadata": {
        "_cell_guid": "a1a31824-fa60-4140-ab09-72582a6ea446",
        "_uuid": "a0fc1970db23b67afabe087dd724764f4eef62cf",
        "id": "V_qfbD2cZwx9"
      },
      "source": [
        "## Data Quality Checks"
      ]
    },
    {
      "cell_type": "markdown",
      "metadata": {
        "_cell_guid": "19c7aeed-e009-43fb-a462-4a39707b3b86",
        "_uuid": "9304c0f92541692305b9fe77705d55a8ffb7d11a",
        "id": "5FqKr4SFZwx9"
      },
      "source": [
        "### Checking missing values\n",
        "Missings are represented as -1"
      ]
    },
    {
      "cell_type": "code",
      "metadata": {
        "_cell_guid": "46adfb57-916f-4cf8-87ae-f03ad861e621",
        "_uuid": "2d4770d2d4b49b2a0b62d84f3e4d57382d36f2cf",
        "collapsed": true,
        "colab": {
          "base_uri": "https://localhost:8080/"
        },
        "id": "0-SKCn7FZwx9",
        "outputId": "806683d6-bd09-4f82-e717-a6867733b100"
      },
      "source": [
        "vars_with_missing = []\n",
        "\n",
        "for f in train.columns:\n",
        "    missings = train[train[f] == -1][f].count()\n",
        "    if missings > 0:\n",
        "        vars_with_missing.append(f)\n",
        "        missings_perc = missings/train.shape[0]\n",
        "\n",
        "        print('Variable {} has {} records ({:.2%}) with missing values'\n",
        "        .format(f, missings, missings_perc))\n",
        "print('In total. there are {} variables with missing values'.format(len(vars_with_missing)))"
      ],
      "execution_count": 19,
      "outputs": [
        {
          "output_type": "stream",
          "name": "stdout",
          "text": [
            "Variable ps_ind_02_cat has 103 records (0.05%) with missing values\n",
            "Variable ps_ind_04_cat has 51 records (0.02%) with missing values\n",
            "Variable ps_ind_05_cat has 2256 records (1.04%) with missing values\n",
            "Variable ps_reg_03 has 38580 records (17.78%) with missing values\n",
            "Variable ps_car_01_cat has 62 records (0.03%) with missing values\n",
            "Variable ps_car_02_cat has 2 records (0.00%) with missing values\n",
            "Variable ps_car_03_cat has 148367 records (68.39%) with missing values\n",
            "Variable ps_car_05_cat has 96026 records (44.26%) with missing values\n",
            "Variable ps_car_07_cat has 4431 records (2.04%) with missing values\n",
            "Variable ps_car_09_cat has 230 records (0.11%) with missing values\n",
            "Variable ps_car_11 has 1 records (0.00%) with missing values\n",
            "Variable ps_car_14 has 15726 records (7.25%) with missing values\n",
            "In total. there are 12 variables with missing values\n"
          ]
        }
      ]
    },
    {
      "cell_type": "markdown",
      "metadata": {
        "_cell_guid": "88daeb5b-9dbf-4e15-af12-e952aac4b874",
        "_uuid": "869694ad63ab68d25588768879d26b49d7624d09",
        "id": "vzndlbHgZwx9"
      },
      "source": [
        "- **ps_car_03_cat 및 ps_car_05_cat**에는 결측값이 있는 레코드 비율이 높습니다. 이 변수를 제거합니다.\n",
        "- 결측값이 있는 다른 범주형 변수의 경우 결측값 -1을 그대로 둘 수 있습니다.\n",
        "- **ps_reg_03**(연속)에 모든 레코드의 18%에 대한 결측값이 있습니다. 평균으로 대체합니다.\n",
        "- **ps_car_11**(순서형)에는 불일치 값이 있는 레코드가 5개만 있습니다. 모드로 대체합니다.\n",
        "- **ps_car_12**(연속)에 결측값이 있는 레코드가 1개뿐입니다. 평균으로 대체합니다.\n",
        "- **ps_car_14**(연속)에는 모든 레코드의 7%에 대한 결측값이 있습니다. 평균으로 대체합니다."
      ]
    },
    {
      "cell_type": "code",
      "metadata": {
        "_cell_guid": "183be251-710e-408f-b72e-1e5f40d1890c",
        "_uuid": "9cbd1e802e35b7d3e21ed696084d12d777210b3f",
        "collapsed": true,
        "id": "znyj3zvEZwx-"
      },
      "source": [
        "# Dropping the variables with too many missing values\n",
        "vars_to_drop = ['ps_car_03_cat', 'ps_car_05_cat']\n",
        "train.drop(vars_to_drop, inplace=True, axis=1)\n",
        "meta.loc[(vars_to_drop), 'keep'] = False # Updating the meta\n",
        "\n",
        "#Imputing with the mean or mode\n",
        "mean_imp = Imputer(missing_values=-1, strategy='mean')\n",
        "mode_imp = Imputer(missing_values=-1, strategy='most_frequent')\n",
        "train['ps_reg_03'] = mean_imp.fit_transform(train[['ps_reg_03']]).ravel()\n",
        "train['ps_car_12'] = mean_imp.fit_transform(train[['ps_car_12']]).ravel()\n",
        "train['ps_car_14'] = mean_imp.fit_transform(train[['ps_car_14']]).ravel()\n",
        "train['ps_car_11'] = mode_imp.fit_transform(train[['ps_car_11']]).ravel()"
      ],
      "execution_count": 20,
      "outputs": []
    },
    {
      "cell_type": "markdown",
      "metadata": {
        "_cell_guid": "b137e94d-b57d-4761-830f-30d6a512fde2",
        "_uuid": "279507e3c1143e9d786edaa95e57f8ae42bed1cd",
        "id": "ct1sZxLVZwx-"
      },
      "source": [
        "### Checking the cardinality of the categorical variables\n",
        "카디널리티는 변수의 서로 다른 값의 수를 나타냅니다. 추후 범주형 변수에서 더미 변수를 만들 예정이기 때문에 구별되는 값이 많은 변수가 있는지 확인이 필요합니다. 우리는 이 변수들이 많은 더미 변수를 야기하기 때문에 그것들을 다르게 처리해야 합니다."
      ]
    },
    {
      "cell_type": "code",
      "metadata": {
        "_cell_guid": "55d5b4b2-f6f8-4c0d-9335-10c0e8d9e91e",
        "_uuid": "1cd88947790cf6422806529e62c9751dcbf0db89",
        "collapsed": true,
        "id": "RLXTVhPQZwx-",
        "colab": {
          "base_uri": "https://localhost:8080/"
        },
        "outputId": "08e18231-d209-4cf4-cb32-7825734ff427"
      },
      "source": [
        "v = meta[(meta.level == 'nominal') & (meta.keep)].index\n",
        "\n",
        "for f in v:\n",
        "    dist_values = train[f].value_counts().shape[0]\n",
        "    print('Variable {} has {} distinct values'.format(f, dist_values))"
      ],
      "execution_count": 22,
      "outputs": [
        {
          "output_type": "stream",
          "name": "stdout",
          "text": [
            "Variable ps_ind_02_cat has 5 distinct values\n",
            "Variable ps_ind_04_cat has 3 distinct values\n",
            "Variable ps_ind_05_cat has 8 distinct values\n",
            "Variable ps_car_01_cat has 13 distinct values\n",
            "Variable ps_car_02_cat has 3 distinct values\n",
            "Variable ps_car_04_cat has 10 distinct values\n",
            "Variable ps_car_06_cat has 18 distinct values\n",
            "Variable ps_car_07_cat has 3 distinct values\n",
            "Variable ps_car_08_cat has 2 distinct values\n",
            "Variable ps_car_09_cat has 6 distinct values\n",
            "Variable ps_car_10_cat has 3 distinct values\n",
            "Variable ps_car_11_cat has 104 distinct values\n"
          ]
        }
      ]
    },
    {
      "cell_type": "markdown",
      "metadata": {
        "_cell_guid": "8662f47c-27b4-4f88-bccc-f229890ebc4d",
        "_uuid": "d7f83fa79ddf0d76857c5a3bdb909c271574eab3",
        "id": "zu9m_DIuZwx-"
      },
      "source": [
        "오직 **ps_car_11_cat**만이 구별되는 많은 값을 가지고 있지만 여전히 합리적입니다. \n",
        "\n",
        "**EDIT:** [nickycan](https://www.kaggle.com/nickycan)에서 첫 번째 솔루션이 데이터 유출로 이어질 수 있다는 사실에 대해 훌륭한 평가를 내렸습니다. 그는 또한 그것을 다루는 [oliver](https://www.kaggle.com/ogrellier)에서 만든 또 다른 커널을 가리켰다. 그래서 나는 이 부분을 올리버의 알맹이로 대체했다. 모든 신용은 그에게 돌아간다. Kaggle 대회에 참가함으로써 배울 수 있는 것이 너무 좋습니다:)"
      ]
    },
    {
      "cell_type": "code",
      "metadata": {
        "collapsed": true,
        "id": "uArJQJxTZwx-"
      },
      "source": [
        "# Script by https://www.kaggle.com/ogrellier\n",
        "# Code: https://www.kaggle.com/ogrellier/python-target-encoding-for-categorical-features\n",
        "def add_noise(series, noise_level):\n",
        "    return series * (1 + noise_level * np.random.randn(len(series)))\n",
        "\n",
        "def target_encode(trn_series=None, \n",
        "                  tst_series=None, \n",
        "                  target=None, \n",
        "                  min_samples_leaf=1, \n",
        "                  smoothing=1,\n",
        "                  noise_level=0):\n",
        "    \"\"\"\n",
        "    Smoothing is computed like in the following paper by Daniele Micci-Barreca\n",
        "    https://kaggle2.blob.core.windows.net/forum-message-attachments/225952/7441/high%20cardinality%20categoricals.pdf\n",
        "    trn_series : training categorical feature as a pd.Series\n",
        "    tst_series : test categorical feature as a pd.Series\n",
        "    target : target data as a pd.Series\n",
        "    min_samples_leaf (int) : minimum samples to take category average into account\n",
        "    smoothing (int) : smoothing effect to balance categorical average vs prior  \n",
        "    \"\"\" \n",
        "    assert len(trn_series) == len(target)\n",
        "    assert trn_series.name == tst_series.name\n",
        "    temp = pd.concat([trn_series, target], axis=1)\n",
        "    # Compute target mean \n",
        "    averages = temp.groupby(by=trn_series.name)[target.name].agg([\"mean\", \"count\"])\n",
        "    # Compute smoothing\n",
        "    smoothing = 1 / (1 + np.exp(-(averages[\"count\"] - min_samples_leaf) / smoothing))\n",
        "    # Apply average function to all target data\n",
        "    prior = target.mean()\n",
        "    # The bigger the count the less full_avg is taken into account\n",
        "    averages[target.name] = prior * (1 - smoothing) + averages[\"mean\"] * smoothing\n",
        "    averages.drop([\"mean\", \"count\"], axis=1, inplace=True)\n",
        "    # Apply averages to trn and tst series\n",
        "    ft_trn_series = pd.merge(\n",
        "        trn_series.to_frame(trn_series.name),\n",
        "        averages.reset_index().rename(columns={'index': target.name, target.name: 'average'}),\n",
        "        on=trn_series.name,\n",
        "        how='left')['average'].rename(trn_series.name + '_mean').fillna(prior)\n",
        "    # pd.merge does not keep the index so restore it\n",
        "    ft_trn_series.index = trn_series.index \n",
        "    ft_tst_series = pd.merge(\n",
        "        tst_series.to_frame(tst_series.name),\n",
        "        averages.reset_index().rename(columns={'index': target.name, target.name: 'average'}),\n",
        "        on=tst_series.name,\n",
        "        how='left')['average'].rename(trn_series.name + '_mean').fillna(prior)\n",
        "    # pd.merge does not keep the index so restore it\n",
        "    ft_tst_series.index = tst_series.index\n",
        "    return add_noise(ft_trn_series, noise_level), add_noise(ft_tst_series, noise_level)"
      ],
      "execution_count": 23,
      "outputs": []
    },
    {
      "cell_type": "code",
      "metadata": {
        "collapsed": true,
        "id": "kKHn9yWUZwx_"
      },
      "source": [
        "train_encoded, test_encoded = target_encode(train[\"ps_car_11_cat\"], \n",
        "                             test[\"ps_car_11_cat\"], \n",
        "                             target=train.target, \n",
        "                             min_samples_leaf=100,\n",
        "                             smoothing=10,\n",
        "                             noise_level=0.01)\n",
        "    \n",
        "train['ps_car_11_cat_te'] = train_encoded\n",
        "train.drop('ps_car_11_cat', axis=1, inplace=True)\n",
        "meta.loc['ps_car_11_cat','keep'] = False  # Updating the meta\n",
        "test['ps_car_11_cat_te'] = test_encoded\n",
        "test.drop('ps_car_11_cat', axis=1, inplace=True)"
      ],
      "execution_count": 24,
      "outputs": []
    },
    {
      "cell_type": "markdown",
      "metadata": {
        "_cell_guid": "555fdddf-e3c5-4c84-a017-d292eaab07ac",
        "_uuid": "e31feea1985ee709ccc37bc5c6dc31e8632c0070",
        "id": "4VA9vMr5Zwx_"
      },
      "source": [
        "<a class=\"anchor\" id=\"eda\"></a>"
      ]
    },
    {
      "cell_type": "markdown",
      "metadata": {
        "_cell_guid": "21e70f2e-84f2-422d-9962-b783ae4a4024",
        "_uuid": "d6f7d15dc7b90269ccf1fcdef0762e0352a3fe5b",
        "id": "x8EeAf-WZwx_"
      },
      "source": [
        "## Exploratory Data Visualization"
      ]
    },
    {
      "cell_type": "markdown",
      "metadata": {
        "_cell_guid": "b3c403c4-943a-45c2-a0ab-96e72c04fe6d",
        "_uuid": "e06225d3d3dde0380c7502471ab580ae883329c4",
        "id": "QStPSCp-Zwx_"
      },
      "source": [
        "### Categorical variables\n",
        "Let's look into the categorical variables and the proportion of customers with target = 1"
      ]
    },
    {
      "cell_type": "code",
      "metadata": {
        "_cell_guid": "65ae81d3-aec8-4936-ad4a-978fd3c15b2e",
        "_uuid": "d526aedf99612576de7d7e57c488d3f5d0fd2742",
        "collapsed": true,
        "id": "eG6KOSdwZwx_",
        "colab": {
          "base_uri": "https://localhost:8080/",
          "height": 1000
        },
        "outputId": "9d69029c-62a9-4d83-d515-4296f62070ca"
      },
      "source": [
        "v = meta[(meta.level == 'nominal') & (meta.keep)].index\n",
        "\n",
        "for f in v:\n",
        "    plt.figure()\n",
        "    fig, ax = plt.subplots(figsize=(20, 10))\n",
        "    # Calculate the percentage of target = 1 per category value\n",
        "    cat_perc = train[[f, 'target']].groupby([f], as_index=False).mean()\n",
        "    cat_perc.sort_values(by='target', ascending=False, inplace=True)\n",
        "    # Bar plot\n",
        "    # Order the bars descending on target mean\n",
        "    sns.barplot(ax=ax, x=f, y='target', data=cat_perc, order=cat_perc[f])\n",
        "    plt.ylabel('% target', fontsize=18)\n",
        "    plt.xlabel(f, fontsize=18)\n",
        "    plt.tick_params(axis='both', which='major', labelsize=18)\n",
        "    plt.show()"
      ],
      "execution_count": 28,
      "outputs": [
        {
          "output_type": "display_data",
          "data": {
            "text/plain": [
              "<Figure size 432x288 with 0 Axes>"
            ]
          },
          "metadata": {}
        },
        {
          "output_type": "display_data",
          "data": {
            "image/png": "[encoded data removed]",
            "text/plain": [
              "<Figure size 1440x720 with 1 Axes>"
            ]
          },
          "metadata": {
            "needs_background": "light"
          }
        },
        {
          "output_type": "display_data",
          "data": {
            "text/plain": [
              "<Figure size 432x288 with 0 Axes>"
            ]
          },
          "metadata": {}
        },
        {
          "output_type": "display_data",
          "data": {
            "image/png": "[encoded data removed]",
            "text/plain": [
              "<Figure size 1440x720 with 1 Axes>"
            ]
          },
          "metadata": {
            "needs_background": "light"
          }
        },
        {
          "output_type": "display_data",
          "data": {
            "text/plain": [
              "<Figure size 432x288 with 0 Axes>"
            ]
          },
          "metadata": {}
        },
        {
          "output_type": "display_data",
          "data": {
            "image/png": "[encoded data removed]",
            "text/plain": [
              "<Figure size 1440x720 with 1 Axes>"
            ]
          },
          "metadata": {
            "needs_background": "light"
          }
        },
        {
          "output_type": "display_data",
          "data": {
            "text/plain": [
              "<Figure size 432x288 with 0 Axes>"
            ]
          },
          "metadata": {}
        },
        {
          "output_type": "display_data",
          "data": {
            "image/png": "[encoded data removed]",
            "text/plain": [
              "<Figure size 1440x720 with 1 Axes>"
            ]
          },
          "metadata": {
            "needs_background": "light"
          }
        },
        {
          "output_type": "display_data",
          "data": {
            "text/plain": [
              "<Figure size 432x288 with 0 Axes>"
            ]
          },
          "metadata": {}
        },
        {
          "output_type": "display_data",
          "data": {
            "image/png": "[encoded data removed]",
            "text/plain": [
              "<Figure size 1440x720 with 1 Axes>"
            ]
          },
          "metadata": {
            "needs_background": "light"
          }
        },
        {
          "output_type": "display_data",
          "data": {
            "text/plain": [
              "<Figure size 432x288 with 0 Axes>"
            ]
          },
          "metadata": {}
        },
        {
          "output_type": "display_data",
          "data": {
            "image/png": "[encoded data removed]",
            "text/plain": [
              "<Figure size 1440x720 with 1 Axes>"
            ]
          },
          "metadata": {
            "needs_background": "light"
          }
        },
        {
          "output_type": "display_data",
          "data": {
            "text/plain": [
              "<Figure size 432x288 with 0 Axes>"
            ]
          },
          "metadata": {}
        },
        {
          "output_type": "display_data",
          "data": {
            "image/png": "[encoded data removed]",
            "text/plain": [
              "<Figure size 1440x720 with 1 Axes>"
            ]
          },
          "metadata": {
            "needs_background": "light"
          }
        },
        {
          "output_type": "display_data",
          "data": {
            "text/plain": [
              "<Figure size 432x288 with 0 Axes>"
            ]
          },
          "metadata": {}
        },
        {
          "output_type": "display_data",
          "data": {
            "image/png": "[encoded data removed]",
            "text/plain": [
              "<Figure size 1440x720 with 1 Axes>"
            ]
          },
          "metadata": {
            "needs_background": "light"
          }
        },
        {
          "output_type": "display_data",
          "data": {
            "text/plain": [
              "<Figure size 432x288 with 0 Axes>"
            ]
          },
          "metadata": {}
        },
        {
          "output_type": "display_data",
          "data": {
            "image/png": "[encoded data removed]",
            "text/plain": [
              "<Figure size 1440x720 with 1 Axes>"
            ]
          },
          "metadata": {
            "needs_background": "light"
          }
        },
        {
          "output_type": "display_data",
          "data": {
            "text/plain": [
              "<Figure size 432x288 with 0 Axes>"
            ]
          },
          "metadata": {}
        },
        {
          "output_type": "display_data",
          "data": {
            "image/png": "[encoded data removed]",
            "text/plain": [
              "<Figure size 1440x720 with 1 Axes>"
            ]
          },
          "metadata": {
            "needs_background": "light"
          }
        },
        {
          "output_type": "display_data",
          "data": {
            "text/plain": [
              "<Figure size 432x288 with 0 Axes>"
            ]
          },
          "metadata": {}
        },
        {
          "output_type": "display_data",
          "data": {
            "image/png": "[encoded data removed]",
            "text/plain": [
              "<Figure size 1440x720 with 1 Axes>"
            ]
          },
          "metadata": {
            "needs_background": "light"
          }
        }
      ]
    },
    {
      "cell_type": "markdown",
      "metadata": {
        "_cell_guid": "466bf1c0-fc53-40db-9f11-ae81b12b41fb",
        "_uuid": "c403f713d0adf7f294c6f8f439e94ad27ba99c74",
        "id": "8nLM2WYVZwx_"
      },
      "source": [
        "**결측값이 있는** 변수에서 알 수 있듯이 결측값을 모드로 대체하는 대신 별도의 범주 값으로 유지하는 것이 좋습니다. 결측값이 있는 고객은 보험금을 청구할 확률이 훨씬 높은 것으로 보입니다(일부 경우에는 훨씬 더 낮음)."
      ]
    },
    {
      "cell_type": "markdown",
      "metadata": {
        "_cell_guid": "93facc26-1116-41a7-8bc3-a3de5cc1e0d9",
        "_uuid": "21e20154f1c847567ea99b7240305f6a3145368c",
        "id": "vFTcm6BLZwyA"
      },
      "source": [
        "### Interval variables\n",
        "구간 변수 간의 상관 관계를 확인합니다. 열 지도는 변수 간의 상관 관계를 시각화하는 좋은 방법입니다. 아래 코드는 다음을 기반으로 합니다. [an example by Michael Waskom](http://seaborn.pydata.org/examples/many_pairwise_correlations.html)"
      ]
    },
    {
      "cell_type": "code",
      "metadata": {
        "_cell_guid": "e969c00b-b09c-49ac-9acd-c07796a944df",
        "_uuid": "c0037596fe7df705bdad63e4f61a06a08c4cccc3",
        "collapsed": true,
        "id": "3ggKWhfUZwyA",
        "colab": {
          "base_uri": "https://localhost:8080/",
          "height": 538
        },
        "outputId": "7718b982-01e4-4d40-a70d-ad810d801c9b"
      },
      "source": [
        "def corr_heatmap(v):\n",
        "    correlations = train[v].corr()\n",
        "\n",
        "    # Create color map ranging between two colors\n",
        "    cmap = sns.diverging_palette(220, 10, as_cmap=True)\n",
        "\n",
        "    fig, ax = plt.subplots(figsize=(10,10))\n",
        "    sns.heatmap(correlations, cmap=cmap, vmax=1.0, center=0, fmt='.2f',\n",
        "                square=True, linewidths=.5, annot=True, cbar_kws={\"shrink\": .75})\n",
        "    plt.show();\n",
        "    \n",
        "v = meta[(meta.level == 'interval') & (meta.keep)].index\n",
        "corr_heatmap(v)"
      ],
      "execution_count": 29,
      "outputs": [
        {
          "output_type": "display_data",
          "data": {
            "image/png": "[encoded data removed]",
            "text/plain": [
              "<Figure size 720x720 with 2 Axes>"
            ]
          },
          "metadata": {
            "needs_background": "light"
          }
        }
      ]
    },
    {
      "cell_type": "markdown",
      "metadata": {
        "_cell_guid": "bc2bb0c9-7b8b-4536-9f2a-5b1279475d19",
        "_uuid": "9dbe7c73bf99bd8526d4b2a3e95e18f0ce8734b4",
        "id": "mpQtmaM3ZwyA"
      },
      "source": [
        "변수들 사이에는 다음과 같은 강한 상관관계가 있다.\n",
        "- ps_reg_02 및 ps_reg_03(0.7)\n",
        "- ps_car_12 및 ps_car13(0.67)\n",
        "- ps_car_12 및 ps_car14(0.58)\n",
        "- ps_car_13 및 ps_car15(0.67)\n",
        "\n",
        "Seaborn에는 변수 간의 (선형) 관계를 시각화하는 데 유용한 그림이 있습니다. *pairplot*을 사용하여 변수 간의 관계를 시각화할 수 있습니다. 하지만 열 지도에서는 이미 제한된 수의 상관 변수를 보여 주었기 때문에 상관 관계가 높은 변수 각각을 따로 살펴보도록 하겠습니다.<br>\n",
        "**참고**: 작업 속도를 높이기 위해 훈련 데이터의 샘플을 채취합니다."
      ]
    },
    {
      "cell_type": "code",
      "metadata": {
        "_cell_guid": "cd8e84fc-9a4b-4b2e-ae63-f0eec75ca5f1",
        "_uuid": "57003a9c9fb3371810d38077ccdfe0afbf1672b9",
        "collapsed": true,
        "id": "r_BsWih6ZwyA"
      },
      "source": [
        "s = train.sample(frac=0.1)"
      ],
      "execution_count": 30,
      "outputs": []
    },
    {
      "cell_type": "markdown",
      "metadata": {
        "_cell_guid": "2a2a231d-ce98-41f5-8803-f12173bdefc0",
        "_uuid": "8ceb63bc7cea9e0437e29eaf6e7a2c7cb0526894",
        "id": "V8neDBl9ZwyA"
      },
      "source": [
        "#### ps_reg_02 and ps_reg_03\n",
        "As the regression line shows, there is a linear relationship between these variables. Thanks to the *hue* parameter we can see that the regression lines for target=0 and target=1 are the same."
      ]
    },
    {
      "cell_type": "code",
      "metadata": {
        "_cell_guid": "3b9ade09-a679-44d3-b28c-2c152abf1876",
        "_uuid": "3f7c86df8ddcd0ea5ae47ca59d365ef8e928309b",
        "collapsed": true,
        "id": "V5_FOB6pZwyA",
        "colab": {
          "base_uri": "https://localhost:8080/",
          "height": 369
        },
        "outputId": "4832892d-58f2-4887-fd19-3499e8ec3d06"
      },
      "source": [
        "sns.lmplot(x='ps_reg_02', y='ps_reg_03', data=s, hue='target', palette='Set1', scatter_kws={'alpha':0.3})\n",
        "plt.show()"
      ],
      "execution_count": 31,
      "outputs": [
        {
          "output_type": "display_data",
          "data": {
            "image/png": "[encoded data removed]",
            "text/plain": [
              "<Figure size 402.375x360 with 1 Axes>"
            ]
          },
          "metadata": {
            "needs_background": "light"
          }
        }
      ]
    },
    {
      "cell_type": "markdown",
      "metadata": {
        "_cell_guid": "dd1ca3ee-c4bd-426d-88d2-d2f0e1b2e8c3",
        "_uuid": "0823b40bab165ced5c95f7409215b5c1fa626074",
        "id": "NtJzwMLRZwyB"
      },
      "source": [
        "#### ps_car_12 and ps_car_13"
      ]
    },
    {
      "cell_type": "code",
      "metadata": {
        "_cell_guid": "d6dbb6e9-199f-498c-ae08-932a5150b613",
        "_uuid": "8869035a748b543e838c4710e1c7ad2d9add413e",
        "collapsed": true,
        "id": "WgktMTjoZwyB",
        "colab": {
          "base_uri": "https://localhost:8080/",
          "height": 369
        },
        "outputId": "f6c71db3-e77d-4d5a-e9d5-c81f374041d5"
      },
      "source": [
        "sns.lmplot(x='ps_car_12', y='ps_car_13', data=s, hue='target', palette='Set1', scatter_kws={'alpha':0.3})\n",
        "plt.show()"
      ],
      "execution_count": 32,
      "outputs": [
        {
          "output_type": "display_data",
          "data": {
            "image/png": "[encoded data removed]",
            "text/plain": [
              "<Figure size 402.375x360 with 1 Axes>"
            ]
          },
          "metadata": {
            "needs_background": "light"
          }
        }
      ]
    },
    {
      "cell_type": "markdown",
      "metadata": {
        "_cell_guid": "4882daa7-11cd-4f15-b876-fc058e03174c",
        "_uuid": "9347a90f21d7d45f45329b2bbb3341ada1b41022",
        "id": "fB_hIplAZwyB"
      },
      "source": [
        "#### ps_car_12 and ps_car_14"
      ]
    },
    {
      "cell_type": "code",
      "metadata": {
        "_cell_guid": "78da0148-a6da-4b34-84c5-3ac7577c0b25",
        "_uuid": "12f93ff9edad366928c61540dd34055f55aff5ca",
        "collapsed": true,
        "id": "5X-D6M4mZwyB",
        "colab": {
          "base_uri": "https://localhost:8080/",
          "height": 369
        },
        "outputId": "df4eeff7-1104-4dc9-f470-5bbf585dc7d9"
      },
      "source": [
        "sns.lmplot(x='ps_car_12', y='ps_car_14', data=s, hue='target', palette='Set1', scatter_kws={'alpha':0.3})\n",
        "plt.show()"
      ],
      "execution_count": 33,
      "outputs": [
        {
          "output_type": "display_data",
          "data": {
            "image/png": "[encoded data removed]",
            "text/plain": [
              "<Figure size 402.375x360 with 1 Axes>"
            ]
          },
          "metadata": {
            "needs_background": "light"
          }
        }
      ]
    },
    {
      "cell_type": "markdown",
      "metadata": {
        "_cell_guid": "ff26f47b-bff7-4547-ac9b-5a6df8d4d071",
        "_uuid": "1a89b9a550afaa8c0984a7418ae834c63c683752",
        "id": "6eZBGqOLZwyB"
      },
      "source": [
        "#### ps_car_13 and ps_car_15"
      ]
    },
    {
      "cell_type": "code",
      "metadata": {
        "_cell_guid": "4b8cfd4a-cb8d-4c3e-b46b-6db77e158bac",
        "_uuid": "74f1216cbc52e181b7512cd9145ebb313d457cdf",
        "collapsed": true,
        "id": "KMC35pYuZwyB",
        "colab": {
          "base_uri": "https://localhost:8080/",
          "height": 369
        },
        "outputId": "c4a8cf0f-70b9-4aba-f9ce-01e44476fbba"
      },
      "source": [
        "sns.lmplot(x='ps_car_15', y='ps_car_13', data=s, hue='target', palette='Set1', scatter_kws={'alpha':0.3})\n",
        "plt.show()"
      ],
      "execution_count": 34,
      "outputs": [
        {
          "output_type": "display_data",
          "data": {
            "image/png": "[encoded data removed]",
            "text/plain": [
              "<Figure size 402.375x360 with 1 Axes>"
            ]
          },
          "metadata": {
            "needs_background": "light"
          }
        }
      ]
    },
    {
      "cell_type": "markdown",
      "metadata": {
        "_cell_guid": "dec7b4dd-c93c-47e1-ab2d-548f432ce4a0",
        "_uuid": "60978caa946dae49052a52ec407b9a1fe3e17881",
        "id": "KUqTUVkKZwyC"
      },
      "source": [
        "좋아, 이제 어쩌지? 어떤 상관 변수를 유지할 것인지 어떻게 결정할 수 있을까요? 우리는 치수를 줄이기 위해 변수에 대해 주성분 분석(PCA)을 수행할 수 있다. AllState Claims Severity Competition에서 이를 위해 [이 커널](https://www.kaggle.com/bertcarremans/reducing-number-of-numerical-features-with-pca)을 만들었습니다. 하지만 상관 변수의 수가 다소 적기 때문에 우리는 모델이 헤비 리프트를 하도록 할 것입니다."
      ]
    },
    {
      "cell_type": "markdown",
      "metadata": {
        "_cell_guid": "9cbdbc6f-9ff4-4c28-9dba-b19e93bc9708",
        "_uuid": "d1fcda209f3dfc9cae005cdee9aafcb26b9e6475",
        "id": "KnJxtxIzZwyC"
      },
      "source": [
        "### Checking the correlations between ordinal variables"
      ]
    },
    {
      "cell_type": "code",
      "metadata": {
        "_cell_guid": "8fb69015-aecb-4cb0-a803-1f304bd9d262",
        "_uuid": "2c64593f289400b81ded88b2159e656786445981",
        "collapsed": true,
        "id": "SRrV-UNYZwyC",
        "colab": {
          "base_uri": "https://localhost:8080/",
          "height": 539
        },
        "outputId": "a13c7c5f-9014-4cb8-f6e5-cc7257c35676"
      },
      "source": [
        "v = meta[(meta.level == 'ordinal') & (meta.keep)].index\n",
        "corr_heatmap(v)"
      ],
      "execution_count": 35,
      "outputs": [
        {
          "output_type": "display_data",
          "data": {
            "image/png": "[encoded data removed]",
            "text/plain": [
              "<Figure size 720x720 with 2 Axes>"
            ]
          },
          "metadata": {
            "needs_background": "light"
          }
        }
      ]
    },
    {
      "cell_type": "markdown",
      "metadata": {
        "_cell_guid": "e2374e64-1327-475c-b375-8b6e73717864",
        "_uuid": "3bf34ff124004015f2176ecb42d469bcb22f048f",
        "id": "0bYoodL1ZwyC"
      },
      "source": [
        "순서형 변수의 경우 많은 상관 관계를 볼 수 없습니다. 반면에 목표값에 따라 그룹화할 때 분포가 어떻게 되는지 살펴볼 수 있습니다."
      ]
    },
    {
      "cell_type": "markdown",
      "metadata": {
        "_cell_guid": "40ef3784-1878-4e25-9854-b43746f63bf8",
        "_uuid": "1a68029b3e8b713d966d4ad931568726b0df75a0",
        "id": "SlGahzOyZwyC"
      },
      "source": [
        "## Feature engineering"
      ]
    },
    {
      "cell_type": "markdown",
      "metadata": {
        "_cell_guid": "c5137cbb-6779-4aad-898c-19a5ba815a9c",
        "_uuid": "a617be4ecc6c94a2a6fde837377b4915b3f372a0",
        "id": "XloZRkn7ZwyD"
      },
      "source": [
        "### Creating dummy variables\n",
        "범주형 변수의 값은 순서나 크기를 나타내지 않습니다. 예를 들어, 범주 2는 범주 1의 값의 두 배가 아닙니다. 따라서 우리는 그것을 다룰 더미 변수를 만들 수 있습니다. 이 정보가 원래 변수의 범주에 대해 생성된 다른 더미 변수에서 파생될 수 있으므로 첫 번째 더미 변수를 삭제한다."
      ]
    },
    {
      "cell_type": "code",
      "metadata": {
        "_cell_guid": "6606cf2b-9082-4d5e-b278-2779780258a6",
        "_uuid": "12554d624df68deff6fd0e9c5f90a61c1e1c83c0",
        "collapsed": true,
        "scrolled": true,
        "id": "r1TqFbgqZwyD",
        "colab": {
          "base_uri": "https://localhost:8080/"
        },
        "outputId": "01308e35-9126-431e-ca87-0e3cea79e5a7"
      },
      "source": [
        "v = meta[(meta.level == 'nominal') & (meta.keep)].index\n",
        "print('Before dummification we have {} variables in train'.format(train.shape[1]))\n",
        "train = pd.get_dummies(train, columns=v, drop_first=True)\n",
        "print('After dummification we have {} variables in train'.format(train.shape[1]))"
      ],
      "execution_count": 36,
      "outputs": [
        {
          "output_type": "stream",
          "name": "stdout",
          "text": [
            "Before dummification we have 57 variables in train\n",
            "After dummification we have 109 variables in train\n"
          ]
        }
      ]
    },
    {
      "cell_type": "markdown",
      "metadata": {
        "_cell_guid": "afa36be5-c104-4b7e-bf68-3a6a52cd36ce",
        "_uuid": "50174c5dd05a9fafbe4a12a604dbb7951235774f",
        "id": "QwovhhZrZwyD"
      },
      "source": [
        "So, creating dummy variables adds 52 variables to the training set."
      ]
    },
    {
      "cell_type": "markdown",
      "metadata": {
        "_cell_guid": "10ce6e10-d129-4596-b394-40f179627378",
        "_uuid": "1b62391ed9a0401d0e6bd6a0e5ab06cb5677b6f0",
        "id": "tQeXERJbZwyD"
      },
      "source": [
        "### Creating interaction variables"
      ]
    },
    {
      "cell_type": "code",
      "metadata": {
        "_cell_guid": "ff3bc120-fa06-44b5-9a3b-73b766a47b5f",
        "_uuid": "9dd8f8a47d5aaa03f24fa614aac9c295244ba416",
        "collapsed": true,
        "id": "kPVi9-ztZwyD",
        "colab": {
          "base_uri": "https://localhost:8080/"
        },
        "outputId": "defebbf1-e43c-479a-e16c-d9bca5e3d0c6"
      },
      "source": [
        "v = meta[(meta.level == 'interval') & (meta.keep)].index\n",
        "poly = PolynomialFeatures(degree=2, interaction_only=False, include_bias=False)\n",
        "interactions = pd.DataFrame(data=poly.fit_transform(train[v]), columns=poly.get_feature_names(v))\n",
        "interactions.drop(v, axis=1, inplace=True)  # Remove the original columns\n",
        "# Concat the interaction variables to the train data\n",
        "print('Before creating interactions we have {} variables in train'.format(train.shape[1]))\n",
        "train = pd.concat([train, interactions], axis=1)\n",
        "print('After creating interactions we have {} variables in train'.format(train.shape[1]))"
      ],
      "execution_count": 37,
      "outputs": [
        {
          "output_type": "stream",
          "name": "stdout",
          "text": [
            "Before creating interactions we have 109 variables in train\n",
            "After creating interactions we have 164 variables in train\n"
          ]
        }
      ]
    },
    {
      "cell_type": "markdown",
      "metadata": {
        "_cell_guid": "cd57b8d1-e14a-4242-b0b9-9afd1a132fe9",
        "_uuid": "02036e241b551d5f7bede25fc4f36de53150df6d",
        "id": "UDHsfJhJZwyD"
      },
      "source": [
        "이는 훈련 데이터에 추가 상호작용 변수를 추가합니다. *get_feature_names* 방법 덕분에 이러한 새 변수에 열 이름을 할당할 수 있습니다."
      ]
    },
    {
      "cell_type": "markdown",
      "metadata": {
        "_cell_guid": "fb9265c9-771b-4ca7-a889-9b37b9eab6c0",
        "_uuid": "58b2f554c11134975e5d1d8ef3d77ea3fbbaa46f",
        "id": "5vRxj7t_ZwyD"
      },
      "source": [
        "<a class=\"anchor\" id=\"feat_selection\"></a>"
      ]
    },
    {
      "cell_type": "markdown",
      "metadata": {
        "_cell_guid": "f2abaa9f-7cdc-4384-80b5-e63597d8cec8",
        "_uuid": "9a5a578a079d355fa2beff6eb88c5d4d17e38add",
        "id": "h9rw1GhfZwyD"
      },
      "source": [
        "## Feature selection"
      ]
    },
    {
      "cell_type": "markdown",
      "metadata": {
        "_cell_guid": "07f5f01b-578a-45ba-86ca-96f1427fec20",
        "_uuid": "b78df6efd06d4d89406f993e606c29a1428a882a",
        "id": "RAxrxd1VZwyD"
      },
      "source": [
        "### Removing features with low or zero variance"
      ]
    },
    {
      "cell_type": "markdown",
      "metadata": {
        "_cell_guid": "3c9e71d5-83e9-4dcb-ad59-4d0f8260266a",
        "_uuid": "1e40858bb47e2bf41c3cce72f40a03024b0a4f9f",
        "id": "vwWtS0QJZwyE"
      },
      "source": [
        "개인적으로, 나는 분류기 알고리즘이 어떤 특징을 유지할지를 선택하도록 하는 것을 선호한다. 하지만 우리가 할 수 있는 일이 하나 있습니다. 즉, 분산이 없거나 매우 낮은 형상을 제거하는 것입니다. Sklearn은 다음과 같은 편리한 방법을 제공합니다. **분산임계값**. 기본적으로 분산이 0인 피쳐를 제거합니다. 이전 단계에서 제로-분산 변수가 없음을 확인했기 때문에 이 경쟁에는 적용되지 않습니다. 하지만 1% 미만의 분산이 있는 피쳐를 제거한다면 31개의 변수를 제거할 것입니다."
      ]
    },
    {
      "cell_type": "code",
      "metadata": {
        "_cell_guid": "41a072b2-85f5-4bb9-afe7-3b5cf3ac51a6",
        "_uuid": "f7e68cb2653dc241b3f86539675632b13c63e211",
        "collapsed": true,
        "id": "R8cDvY2QZwyE",
        "colab": {
          "base_uri": "https://localhost:8080/"
        },
        "outputId": "0df3c7ec-8511-4742-be59-6893aec8f266"
      },
      "source": [
        "selector = VarianceThreshold(threshold=.01)\n",
        "selector.fit(train.drop(['id', 'target'], axis=1)) # Fit to train without id and target variables\n",
        "\n",
        "f = np.vectorize(lambda x : not x) # Function to toggle boolean array elements\n",
        "\n",
        "v = train.drop(['id', 'target'], axis=1).columns[f(selector.get_support())]\n",
        "print('{} variables have too low variance.'.format(len(v)))\n",
        "print('These variables are {}'.format(list(v)))"
      ],
      "execution_count": 38,
      "outputs": [
        {
          "output_type": "stream",
          "name": "stdout",
          "text": [
            "28 variables have too low variance.\n",
            "These variables are ['ps_ind_10_bin', 'ps_ind_11_bin', 'ps_ind_12_bin', 'ps_ind_13_bin', 'ps_car_12', 'ps_car_14', 'ps_car_11_cat_te', 'ps_ind_05_cat_2', 'ps_ind_05_cat_5', 'ps_car_01_cat_1', 'ps_car_01_cat_2', 'ps_car_04_cat_3', 'ps_car_04_cat_4', 'ps_car_04_cat_5', 'ps_car_04_cat_6', 'ps_car_04_cat_7', 'ps_car_06_cat_2', 'ps_car_06_cat_5', 'ps_car_06_cat_8', 'ps_car_06_cat_12', 'ps_car_06_cat_16', 'ps_car_06_cat_17', 'ps_car_09_cat_4', 'ps_car_10_cat_1', 'ps_car_10_cat_2', 'ps_car_12^2', 'ps_car_12 ps_car_14', 'ps_car_14^2']\n"
          ]
        }
      ]
    },
    {
      "cell_type": "markdown",
      "metadata": {
        "_cell_guid": "6bcf15e1-e12b-4690-999a-a6b0287785a2",
        "_uuid": "5fb5fc6f9d8b477f6a2edc1850621f0f92f6d239",
        "id": "5ANuLObiZwyE"
      },
      "source": [
        "분산을 기준으로 선택한다면 오히려 많은 변수를 잃게 될 것입니다. 하지만 변수가 많지 않기 때문에 분류자를 선택하도록 하겠습니다. 변수가 더 많은 데이터 집합의 경우 처리 시간을 단축할 수 있습니다.\n",
        "\n",
        "Sklearn에는 다른 [feature selection methods](http://scikit-learn.org/stable/modules/feature_selection.html)도 함께 제공됩니다. 이러한 방법 중 하나는 *SelectFromModel*으로, 이 방법을 통해 다른 분류자가 최상의 기능을 선택하고 이러한 기능을 계속할 수 있습니다. 아래에서는 랜덤 포레스트로 어떻게 하는지 보여드리겠습니다."
      ]
    },
    {
      "cell_type": "markdown",
      "metadata": {
        "_cell_guid": "a5f91639-6eb2-4d08-a90e-7893b9ae871a",
        "_uuid": "8f7aa5366fdbe5abc662b66044eee51ba7b9199b",
        "id": "YbZGsTP_ZwyE"
      },
      "source": [
        "### Selecting features with a Random Forest and SelectFromModel\n",
        "여기서는 랜덤 포레스트의 피쳐 중요도를 기준으로 피쳐 선택을 합니다. 그런 다음 Sklearn의 SelectFromModel을 사용하여 유지할 변수 수를 지정할 수 있습니다. 기능 중요도 수준에 대한 임계값을 수동으로 설정할 수 있습니다. 상위 50%의 변수를 선택하기만 하면 됩니다. \n",
        "\n",
        "> 아래 셀의 코드는 [GitHub repo of Sebastian Raschka](https://github.com/rasbt/python-machine-learning-book/blob/master/code/ch04/ch04.ipynb)에서 차용한 것입니다. 이 레포에는 그의 책 *Python Machine Learning*의 코드 샘플이 포함되어 있는데, 이 샘플은 반드시 읽어야 합니다."
      ]
    },
    {
      "cell_type": "code",
      "metadata": {
        "_cell_guid": "68538296-829c-4b96-bd0a-f87e6551c09b",
        "_uuid": "f2acc04bcfb97bb32d420d09760b691b389ec131",
        "collapsed": true,
        "id": "arJ-tc7HZwyE",
        "colab": {
          "base_uri": "https://localhost:8080/"
        },
        "outputId": "32b0d0a5-aa39-4e7a-9ca7-939b206cb008"
      },
      "source": [
        "X_train = train.drop(['id', 'target'], axis=1)\n",
        "y_train = train['target']\n",
        "\n",
        "feat_labels = X_train.columns\n",
        "\n",
        "rf = RandomForestClassifier(n_estimators=1000, random_state=0, n_jobs=-1, verbose=1)\n",
        "\n",
        "rf.fit(X_train, y_train)\n",
        "importances = rf.feature_importances_\n",
        "\n",
        "indices = np.argsort(rf.feature_importances_)[::-1]\n",
        "\n",
        "for f in range(X_train.shape[1]):\n",
        "    print(\"%2d) %-*s %f\" % (f + 1, 30,feat_labels[indices[f]], importances[indices[f]]))"
      ],
      "execution_count": 41,
      "outputs": [
        {
          "output_type": "stream",
          "name": "stderr",
          "text": [
            "[Parallel(n_jobs=-1)]: Using backend ThreadingBackend with 2 concurrent workers.\n",
            "[Parallel(n_jobs=-1)]: Done  46 tasks      | elapsed:   47.0s\n",
            "[Parallel(n_jobs=-1)]: Done 196 tasks      | elapsed:  3.3min\n",
            "[Parallel(n_jobs=-1)]: Done 446 tasks      | elapsed:  7.6min\n",
            "[Parallel(n_jobs=-1)]: Done 796 tasks      | elapsed: 13.6min\n",
            "[Parallel(n_jobs=-1)]: Done 1000 out of 1000 | elapsed: 17.1min finished\n"
          ]
        },
        {
          "output_type": "stream",
          "name": "stdout",
          "text": [
            " 1) ps_car_11_cat_te               0.021225\n",
            " 2) ps_car_13                      0.017380\n",
            " 3) ps_car_12 ps_car_13            0.017284\n",
            " 4) ps_car_13^2                    0.017262\n",
            " 5) ps_car_13 ps_car_14            0.017101\n",
            " 6) ps_reg_03 ps_car_13            0.017082\n",
            " 7) ps_reg_01 ps_car_13            0.016786\n",
            " 8) ps_car_13 ps_car_15            0.016721\n",
            " 9) ps_reg_03 ps_car_14            0.016292\n",
            "10) ps_reg_03 ps_car_12            0.015626\n",
            "11) ps_reg_03 ps_car_15            0.015135\n",
            "12) ps_car_14 ps_car_15            0.015073\n",
            "13) ps_car_13 ps_calc_01           0.014786\n",
            "14) ps_reg_01 ps_reg_03            0.014736\n",
            "15) ps_reg_02 ps_car_13            0.014691\n",
            "16) ps_car_13 ps_calc_03           0.014689\n",
            "17) ps_car_13 ps_calc_02           0.014634\n",
            "18) ps_reg_01 ps_car_14            0.014388\n",
            "19) ps_reg_03                      0.014270\n",
            "20) ps_reg_03^2                    0.014196\n",
            "21) ps_reg_03 ps_calc_02           0.013796\n",
            "22) ps_reg_03 ps_calc_03           0.013789\n",
            "23) ps_reg_03 ps_calc_01           0.013709\n",
            "24) ps_car_14 ps_calc_02           0.013640\n",
            "25) ps_car_14 ps_calc_01           0.013594\n",
            "26) ps_calc_10                     0.013577\n",
            "27) ps_car_14 ps_calc_03           0.013519\n",
            "28) ps_calc_14                     0.013420\n",
            "29) ps_car_12 ps_car_14            0.012971\n",
            "30) ps_ind_03                      0.012893\n",
            "31) ps_car_14                      0.012811\n",
            "32) ps_car_14^2                    0.012729\n",
            "33) ps_reg_02 ps_car_14            0.012693\n",
            "34) ps_calc_11                     0.012604\n",
            "35) ps_reg_02 ps_reg_03            0.012476\n",
            "36) ps_ind_15                      0.012169\n",
            "37) ps_car_12 ps_car_15            0.010915\n",
            "38) ps_car_15 ps_calc_02           0.010898\n",
            "39) ps_car_15 ps_calc_03           0.010882\n",
            "40) ps_car_15 ps_calc_01           0.010867\n",
            "41) ps_calc_13                     0.010516\n",
            "42) ps_car_12 ps_calc_01           0.010429\n",
            "43) ps_car_12 ps_calc_03           0.010336\n",
            "44) ps_car_12 ps_calc_02           0.010271\n",
            "45) ps_reg_02 ps_car_15            0.010235\n",
            "46) ps_reg_01 ps_car_15            0.010214\n",
            "47) ps_calc_02 ps_calc_03          0.010073\n",
            "48) ps_calc_01 ps_calc_02          0.010006\n",
            "49) ps_calc_01 ps_calc_03          0.009972\n",
            "50) ps_calc_08                     0.009813\n",
            "51) ps_calc_07                     0.009782\n",
            "52) ps_reg_01 ps_car_12            0.009456\n",
            "53) ps_reg_02 ps_car_12            0.009271\n",
            "54) ps_reg_02 ps_calc_01           0.009257\n",
            "55) ps_reg_02 ps_calc_03           0.009201\n",
            "56) ps_reg_02 ps_calc_02           0.009169\n",
            "57) ps_reg_01 ps_calc_01           0.009081\n",
            "58) ps_reg_01 ps_calc_02           0.009078\n",
            "59) ps_calc_06                     0.009046\n",
            "60) ps_reg_01 ps_calc_03           0.009015\n",
            "61) ps_calc_09                     0.008849\n",
            "62) ps_ind_01                      0.008574\n",
            "63) ps_calc_05                     0.008306\n",
            "64) ps_calc_04                     0.008133\n",
            "65) ps_reg_01 ps_reg_02            0.008040\n",
            "66) ps_calc_12                     0.008010\n",
            "67) ps_car_15                      0.006173\n",
            "68) ps_car_15^2                    0.006156\n",
            "69) ps_calc_03^2                   0.006015\n",
            "70) ps_calc_01^2                   0.005961\n",
            "71) ps_calc_03                     0.005949\n",
            "72) ps_calc_01                     0.005948\n",
            "73) ps_calc_02^2                   0.005943\n",
            "74) ps_calc_02                     0.005927\n",
            "75) ps_car_12^2                    0.005351\n",
            "76) ps_car_12                      0.005350\n",
            "77) ps_reg_02^2                    0.004957\n",
            "78) ps_reg_02                      0.004936\n",
            "79) ps_reg_01^2                    0.004164\n",
            "80) ps_reg_01                      0.004147\n",
            "81) ps_car_11                      0.003816\n",
            "82) ps_ind_05_cat_0                0.003594\n",
            "83) ps_ind_17_bin                  0.002806\n",
            "84) ps_calc_17_bin                 0.002668\n",
            "85) ps_calc_16_bin                 0.002604\n",
            "86) ps_calc_19_bin                 0.002551\n",
            "87) ps_calc_18_bin                 0.002486\n",
            "88) ps_car_01_cat_11               0.002394\n",
            "89) ps_ind_16_bin                  0.002386\n",
            "90) ps_ind_04_cat_0                0.002382\n",
            "91) ps_ind_04_cat_1                0.002371\n",
            "92) ps_ind_07_bin                  0.002333\n",
            "93) ps_car_09_cat_2                0.002300\n",
            "94) ps_ind_02_cat_1                0.002237\n",
            "95) ps_car_01_cat_7                0.002107\n",
            "96) ps_car_09_cat_0                0.002104\n",
            "97) ps_ind_02_cat_2                0.002093\n",
            "98) ps_calc_20_bin                 0.002073\n",
            "99) ps_ind_06_bin                  0.002047\n",
            "100) ps_calc_15_bin                 0.002002\n",
            "101) ps_car_06_cat_1                0.001990\n",
            "102) ps_car_07_cat_1                0.001981\n",
            "103) ps_ind_08_bin                  0.001947\n",
            "104) ps_car_09_cat_1                0.001836\n",
            "105) ps_car_06_cat_11               0.001800\n",
            "106) ps_ind_18_bin                  0.001715\n",
            "107) ps_ind_09_bin                  0.001694\n",
            "108) ps_car_01_cat_9                0.001581\n",
            "109) ps_car_01_cat_10               0.001579\n",
            "110) ps_car_06_cat_14               0.001555\n",
            "111) ps_car_01_cat_6                0.001537\n",
            "112) ps_car_01_cat_4                0.001531\n",
            "113) ps_ind_05_cat_6                0.001481\n",
            "114) ps_ind_02_cat_3                0.001408\n",
            "115) ps_car_07_cat_0                0.001367\n",
            "116) ps_car_08_cat_1                0.001357\n",
            "117) ps_car_01_cat_8                0.001341\n",
            "118) ps_car_02_cat_1                0.001336\n",
            "119) ps_car_02_cat_0                0.001299\n",
            "120) ps_car_06_cat_4                0.001222\n",
            "121) ps_ind_05_cat_4                0.001190\n",
            "122) ps_ind_02_cat_4                0.001170\n",
            "123) ps_car_01_cat_5                0.001150\n",
            "124) ps_car_06_cat_6                0.001116\n",
            "125) ps_car_06_cat_10               0.001065\n",
            "126) ps_car_04_cat_1                0.001040\n",
            "127) ps_ind_05_cat_2                0.001027\n",
            "128) ps_car_06_cat_7                0.001009\n",
            "129) ps_car_04_cat_2                0.000984\n",
            "130) ps_car_01_cat_3                0.000905\n",
            "131) ps_car_09_cat_3                0.000885\n",
            "132) ps_car_01_cat_0                0.000878\n",
            "133) ps_ind_14                      0.000851\n",
            "134) ps_car_06_cat_15               0.000826\n",
            "135) ps_car_06_cat_9                0.000800\n",
            "136) ps_ind_05_cat_1                0.000755\n",
            "137) ps_car_06_cat_3                0.000704\n",
            "138) ps_car_10_cat_1                0.000701\n",
            "139) ps_ind_12_bin                  0.000685\n",
            "140) ps_ind_05_cat_3                0.000662\n",
            "141) ps_car_09_cat_4                0.000634\n",
            "142) ps_car_01_cat_2                0.000550\n",
            "143) ps_car_04_cat_8                0.000546\n",
            "144) ps_car_06_cat_17               0.000509\n",
            "145) ps_car_06_cat_16               0.000476\n",
            "146) ps_car_04_cat_9                0.000438\n",
            "147) ps_car_06_cat_12               0.000437\n",
            "148) ps_car_06_cat_13               0.000392\n",
            "149) ps_car_01_cat_1                0.000388\n",
            "150) ps_ind_05_cat_5                0.000321\n",
            "151) ps_car_06_cat_5                0.000282\n",
            "152) ps_ind_11_bin                  0.000217\n",
            "153) ps_car_04_cat_6                0.000201\n",
            "154) ps_car_04_cat_3                0.000149\n",
            "155) ps_ind_13_bin                  0.000149\n",
            "156) ps_car_06_cat_2                0.000128\n",
            "157) ps_car_06_cat_8                0.000097\n",
            "158) ps_car_04_cat_5                0.000096\n",
            "159) ps_car_04_cat_7                0.000086\n",
            "160) ps_ind_10_bin                  0.000069\n",
            "161) ps_car_10_cat_2                0.000064\n",
            "162) ps_car_04_cat_4                0.000041\n"
          ]
        }
      ]
    },
    {
      "cell_type": "markdown",
      "metadata": {
        "_cell_guid": "a9aa9b7d-2834-4d82-b300-d98704dcf4b2",
        "_uuid": "a4e25a206e24715c5c0ae55c32693d8fbefc3c8f",
        "id": "Y2LwVPWsZwyE"
      },
      "source": [
        "SelectFromModel을 사용하면 사용할 사전 적합 분류기와 형상 중요도에 대한 임계값을 지정할 수 있다. *get_support* 방법을 사용하면 훈련 데이터의 변수 수를 제한할 수 있습니다."
      ]
    },
    {
      "cell_type": "code",
      "metadata": {
        "_cell_guid": "17703fb7-c45b-48c4-b397-97b60fd7bd02",
        "_uuid": "8374d3bcb725a9331b57baf209279593fe82f7b0",
        "collapsed": true,
        "id": "F_HDObgLZwyE",
        "colab": {
          "base_uri": "https://localhost:8080/"
        },
        "outputId": "7f4bf0b6-8155-4d66-8de2-b5f804de644c"
      },
      "source": [
        "sfm = SelectFromModel(rf, threshold='median', prefit=True)\n",
        "print('Number of features before selection: {}'.format(X_train.shape[1]))\n",
        "n_features = sfm.transform(X_train).shape[1]\n",
        "print('Number of features after selection: {}'.format(n_features))\n",
        "selected_vars = list(feat_labels[sfm.get_support()])"
      ],
      "execution_count": 42,
      "outputs": [
        {
          "output_type": "stream",
          "name": "stdout",
          "text": [
            "Number of features before selection: 162\n",
            "Number of features after selection: 81\n"
          ]
        }
      ]
    },
    {
      "cell_type": "code",
      "metadata": {
        "_cell_guid": "608f476c-a707-4ae8-afda-d18766a237ec",
        "_uuid": "739729e399a58cef39570216b481486f6c9d4dac",
        "collapsed": true,
        "id": "WCB7NOPrZwyE"
      },
      "source": [
        "train = train[selected_vars + ['target']]"
      ],
      "execution_count": 43,
      "outputs": []
    },
    {
      "cell_type": "markdown",
      "metadata": {
        "_cell_guid": "525b9c98-40bd-4115-b9a7-c0688940fad7",
        "_uuid": "bbe680ed6436dae96d6bbd1e10b5053ba6fe7f6d",
        "id": "7eXVNkH-ZwyF"
      },
      "source": [
        "<a class=\"anchor\" id=\"feat_scaling\"></a>"
      ]
    },
    {
      "cell_type": "markdown",
      "metadata": {
        "_cell_guid": "ed8f51ef-a528-4dd7-9a9e-3fe6abae76cc",
        "_uuid": "2a3fd5dfb7a710eb74a590e978768675a21e5c34",
        "id": "Fb-FPOCaZwyF"
      },
      "source": [
        "## Feature scaling\n",
        "앞서 언급했듯이, 우리는 훈련 데이터에 표준 스케일링을 적용할 수 있습니다. 이 작업이 완료되면 일부 분류기가 더 잘 작동합니다."
      ]
    },
    {
      "cell_type": "code",
      "metadata": {
        "_cell_guid": "9e461415-d087-43c6-96e8-021a61bb76b1",
        "_uuid": "df5e30846f84916d5bee758d035790e94b50e04d",
        "collapsed": true,
        "id": "oURqychGZwyF",
        "colab": {
          "base_uri": "https://localhost:8080/"
        },
        "outputId": "9b0b65f8-d95d-4601-9e30-86d6fbc86229"
      },
      "source": [
        "scaler = StandardScaler()\n",
        "scaler.fit_transform(train.drop(['target'], axis=1))"
      ],
      "execution_count": 44,
      "outputs": [
        {
          "output_type": "execute_result",
          "data": {
            "text/plain": [
              "array([[-0.45941104, -1.26665356,  1.05087653, ..., -0.72553616,\n",
              "        -1.01071913, -1.06173767],\n",
              "       [ 1.55538958,  0.95034274, -0.63847299, ..., -1.06120876,\n",
              "        -1.01071913,  0.27907892],\n",
              "       [ 1.05168943, -0.52765479, -0.92003125, ...,  1.95984463,\n",
              "        -0.56215309, -1.02449277],\n",
              "       ...,\n",
              "       [-0.9631112 ,  0.58084336,  0.48776003, ..., -0.46445747,\n",
              "         0.18545696,  0.27907892],\n",
              "       [-0.9631112 , -0.89715418, -1.48314775, ..., -0.91202093,\n",
              "        -0.41263108,  0.27907892],\n",
              "       [-0.45941104, -1.26665356,  1.61399304, ...,  0.28148164,\n",
              "        -0.11358706, -0.72653353]])"
            ]
          },
          "metadata": {},
          "execution_count": 44
        }
      ]
    }
  ]
}